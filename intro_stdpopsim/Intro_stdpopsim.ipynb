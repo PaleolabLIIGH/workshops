{
 "cells": [
  {
   "cell_type": "markdown",
   "metadata": {
    "slideshow": {
     "slide_type": "slide"
    }
   },
   "source": [
    "# Introduction to using stdpopsim"
   ]
  },
  {
   "cell_type": "markdown",
   "metadata": {},
   "source": [
    "## Welcome to the first stdpopsim workshop!\n",
    "\n",
    "**Instructor:** Ariella Gladstein, postdoc at University of North Carolina, Chapel Hill  \n",
    "**Helpers:**   \n",
    "Andrew Kern   \n",
    "Peter Ralph  \n",
    "Murillo Rodrigues   \n",
    "**Participants:** If you want, introduce yourselves in the Slack chat. What's your name? Where are you located? What do you work on?\n",
    "\n",
    "**Banter/Question**\n",
    "Please use the Slack #intro-workshop1 channel for participant-participant chatting and for asking for help. To ask a general question, write it in the #intro-workshop1 channel, to ask for one-one help DM @Peter Ralph, @Andy Kern, and @Murillo Fernando Rodrigues "
   ]
  },
  {
   "cell_type": "markdown",
   "metadata": {},
   "source": [
    "## Workshop Outline\n",
    "1. Basics of using Jupyter Notebooks and Binder\n",
    "2. Overview of stdpopsim\n",
    "3. How to Navigate the stdpopsim library catalog\n",
    "4. How to use the command line interface\n",
    "5. How to use the Python API\n",
    "6. Example analysis\n",
    "7. How to ask for help\n",
    "8. Some examples of what stdpopsim cannot currently do\n",
    "9. Teaser of how to contribute\n",
    "10. Using stdpopsim after the workshop"
   ]
  },
  {
   "cell_type": "markdown",
   "metadata": {},
   "source": [
    "----------\n",
    "## 1. Basics of using Jupyter Notebooks and Binder"
   ]
  },
  {
   "cell_type": "markdown",
   "metadata": {},
   "source": [
    "### How to use Jupyter Notebook\n",
    "Jupyter Notebooks have cells where you can write in Markdown and run code.  \n",
    "To execute a cell, click the play button or press shift enter."
   ]
  },
  {
   "cell_type": "code",
   "execution_count": null,
   "metadata": {},
   "outputs": [],
   "source": [
    "print('Try writing some Python here')"
   ]
  },
  {
   "cell_type": "code",
   "execution_count": null,
   "metadata": {},
   "outputs": [],
   "source": [
    "%%bash\n",
    "echo 'We can also use Bash magic. Try writing some Bash here'"
   ]
  },
  {
   "cell_type": "markdown",
   "metadata": {},
   "source": [
    "### MyBinder Specifics\n",
    "- In the cloud\n",
    "- If you are not active it can disconect\n",
    "- If it seems slow, try to restart the kernel\n",
    "- To save your work you must \"save\" and \"Download\" the notebook"
   ]
  },
  {
   "cell_type": "markdown",
   "metadata": {},
   "source": [
    "---------\n",
    "## 2. Overview of stdpopsim"
   ]
  },
  {
   "cell_type": "markdown",
   "metadata": {},
   "source": [
    "### What is stdpopsim?\n",
    "- Library of previously published population genetic models that can be used to simulate data\n",
    "- Includes simple & complex demographic models\n",
    "- Models have undergone rigorous quality control to ensure what we implement matches original publication"
   ]
  },
  {
   "cell_type": "markdown",
   "metadata": {},
   "source": [
    "### Why is stdpopsim useful?\n",
    "- Increase reproducibility in population genetics modeling\n",
    "- Less work for simulating data to test new inference methods\n",
    "- Facilitate comparisons among inference methdos"
   ]
  },
  {
   "cell_type": "markdown",
   "metadata": {},
   "source": [
    "### Phase 1\n",
    "Adrion et al. (2020). _A community-maintained standard library of population genetic models_. eLife. https://doi.org/10.7554/eLife.54967\n",
    "\n",
    "- Focused just on demographic modeling\n",
    "- Uses msprime as simulation engine\n",
    "- Realistic genetic maps for each species"
   ]
  },
  {
   "cell_type": "markdown",
   "metadata": {},
   "source": [
    "---------\n",
    "## 3. How to Navigate the [stdpopsim library catalog](https://stdpopsim.readthedocs.io/en/latest/catalog.html)\n",
    "\n",
    "### The Catalog is organized first by species.\n",
    "\n",
    "_How many species are there?_\n",
    "\n",
    "![](images/catalog.png)\n"
   ]
  },
  {
   "cell_type": "markdown",
   "metadata": {},
   "source": [
    "### Each species has a set of defining attribute. \n",
    "\n",
    "_What are the attributes?_\n",
    "\n",
    "![](images/species_attributes.png)"
   ]
  },
  {
   "cell_type": "markdown",
   "metadata": {},
   "source": [
    "### Each species has defined genome parameters.\n",
    "\n",
    "_What are the genome parameters?_\n",
    "\n",
    "![](images/genome_params.png)"
   ]
  },
  {
   "cell_type": "markdown",
   "metadata": {},
   "source": [
    "### Some species have a genetic map.\n",
    "\n",
    "Genetic maps are stored on AWS and downloaded to cache when used.\n",
    "\n",
    "![](images/genetic_maps.png)"
   ]
  },
  {
   "cell_type": "markdown",
   "metadata": {},
   "source": [
    "### Some species have demographic models.\n",
    "\n",
    "All models are from published models.\n",
    "\n",
    "_What models are available? Are there any you recognize from the literature?_\n",
    "\n",
    "![](images/models.png)"
   ]
  },
  {
   "cell_type": "markdown",
   "metadata": {},
   "source": [
    "### Each model has a description and set of defining attributes. \n",
    "\n",
    "_What are the attributes?_\n",
    "\n",
    "![](images/model_attr.png)"
   ]
  },
  {
   "cell_type": "markdown",
   "metadata": {},
   "source": [
    "### Each model has a table of defined model parameters from the publication. \n",
    "\n",
    "_Can you find where in the original publication the model parameters are given?_\n",
    "\n",
    "![](images/model_params.png)"
   ]
  },
  {
   "cell_type": "markdown",
   "metadata": {},
   "source": [
    "### _Pick a species and demographic model you want to simulate_"
   ]
  },
  {
   "cell_type": "markdown",
   "metadata": {},
   "source": [
    "---------------\n",
    "## 4. How to use the command line interface\n",
    "Resources:\n",
    "- [Documentation](https://stdpopsim.readthedocs.io/en/latest/cli_arguments.html)\n",
    "- [Tutorials](https://stdpopsim.readthedocs.io/en/latest/tutorial.html#running-stdpopsim-with-the-command-line-interface-cli)"
   ]
  },
  {
   "cell_type": "markdown",
   "metadata": {},
   "source": [
    "### Run stdpopsim with the help option"
   ]
  },
  {
   "cell_type": "code",
   "execution_count": null,
   "metadata": {},
   "outputs": [],
   "source": [
    "%%bash\n",
    "stdpopsim --help"
   ]
  },
  {
   "cell_type": "markdown",
   "metadata": {},
   "source": [
    "`stdpopsim` uses a combination of [_positional arguments_](https://stdpopsim.readthedocs.io/en/stable/cli_arguments.html#Positional%20Arguments), which are required, and [_named arguments_](https://stdpopsim.readthedocs.io/en/stable/cli_arguments.html#Named%20Arguments), which are optional."
   ]
  },
  {
   "cell_type": "markdown",
   "metadata": {},
   "source": [
    "### Find your species and run stdpopsim with that species with the help option"
   ]
  },
  {
   "cell_type": "code",
   "execution_count": null,
   "metadata": {},
   "outputs": [],
   "source": [
    "%%bash\n",
    "stdpopsim HomSap --help"
   ]
  },
  {
   "cell_type": "markdown",
   "metadata": {},
   "source": [
    "### Find your model and run stdpopsim with that model with the help option"
   ]
  },
  {
   "cell_type": "code",
   "execution_count": null,
   "metadata": {},
   "outputs": [],
   "source": [
    "%%bash\n",
    "stdpopsim HomSap --help-models OutOfAfrica_3G09"
   ]
  },
  {
   "cell_type": "markdown",
   "metadata": {},
   "source": [
    "## Run a simulation\n",
    "- pick the number of samples\n",
    "- pick a chromosome\n",
    "- decide on an output file\n",
    "- do you want a recombination map?\n",
    "- do you want a fraction of the chromosome?"
   ]
  },
  {
   "cell_type": "code",
   "execution_count": null,
   "metadata": {},
   "outputs": [],
   "source": [
    "%%bash\n",
    "stdpopsim HomSap 10 10 10 -c chr22 -l 0.1 -d OutOfAfrica_3G09 -o OutOfAfrica_3G09.ts"
   ]
  },
  {
   "cell_type": "markdown",
   "metadata": {},
   "source": [
    "---------------\n",
    "## 5. How to use the Python API\n",
    "Resources:\n",
    "- [Documentation](https://stdpopsim.readthedocs.io/en/stable/api.html)\n",
    "- [Tutorials](https://stdpopsim.readthedocs.io/en/latest/tutorial.html#running-stdpopsim-with-the-python-interface-api)"
   ]
  },
  {
   "cell_type": "markdown",
   "metadata": {},
   "source": [
    "### Import stdpopsim"
   ]
  },
  {
   "cell_type": "code",
   "execution_count": null,
   "metadata": {},
   "outputs": [],
   "source": [
    "import stdpopsim"
   ]
  },
  {
   "cell_type": "markdown",
   "metadata": {},
   "source": [
    "### Set your species\n",
    "https://stdpopsim.readthedocs.io/en/stable/api.html#stdpopsim.get_species"
   ]
  },
  {
   "cell_type": "code",
   "execution_count": null,
   "metadata": {},
   "outputs": [],
   "source": [
    "species = stdpopsim.get_species(\"HomSap\")"
   ]
  },
  {
   "cell_type": "markdown",
   "metadata": {},
   "source": [
    "### Find your demographic model\n",
    "https://stdpopsim.readthedocs.io/en/stable/api.html#stdpopsim.DemographicModel"
   ]
  },
  {
   "cell_type": "code",
   "execution_count": null,
   "metadata": {},
   "outputs": [],
   "source": [
    "for model in species.demographic_models:\n",
    "    print(model.id)"
   ]
  },
  {
   "cell_type": "markdown",
   "metadata": {},
   "source": [
    "### Set your demographic model\n",
    "https://stdpopsim.readthedocs.io/en/stable/api.html#stdpopsim.Species.get_demographic_model"
   ]
  },
  {
   "cell_type": "code",
   "execution_count": null,
   "metadata": {},
   "outputs": [],
   "source": [
    "model = species.get_demographic_model('OutOfAfrica_3G09')"
   ]
  },
  {
   "cell_type": "markdown",
   "metadata": {},
   "source": [
    "### Verify the simulated populations"
   ]
  },
  {
   "cell_type": "code",
   "execution_count": null,
   "metadata": {},
   "outputs": [],
   "source": [
    "print([pop.id for pop in model.populations])"
   ]
  },
  {
   "cell_type": "markdown",
   "metadata": {},
   "source": [
    "### Set the number of samples"
   ]
  },
  {
   "cell_type": "code",
   "execution_count": null,
   "metadata": {},
   "outputs": [],
   "source": [
    "samples = model.get_samples(10, 10, 10)"
   ]
  },
  {
   "cell_type": "markdown",
   "metadata": {},
   "source": [
    "### Specify the simulator\n",
    "https://stdpopsim.readthedocs.io/en/stable/api.html#simulation-engines"
   ]
  },
  {
   "cell_type": "code",
   "execution_count": null,
   "metadata": {},
   "outputs": [],
   "source": [
    "engine = stdpopsim.get_engine('msprime')"
   ]
  },
  {
   "cell_type": "markdown",
   "metadata": {},
   "source": [
    "### Set your chromosome\n",
    "https://stdpopsim.readthedocs.io/en/stable/api.html#stdpopsim.Species.get_contig"
   ]
  },
  {
   "cell_type": "code",
   "execution_count": null,
   "metadata": {},
   "outputs": [],
   "source": [
    "contig = species.get_contig(\"chr22\", length_multiplier=0.1)"
   ]
  },
  {
   "cell_type": "markdown",
   "metadata": {},
   "source": [
    "### Ready to simulate!\n",
    "https://stdpopsim.readthedocs.io/en/latest/api.html#stdpopsim.Engine.simulate"
   ]
  },
  {
   "cell_type": "code",
   "execution_count": null,
   "metadata": {},
   "outputs": [],
   "source": [
    "ts = engine.simulate(model, contig, samples)"
   ]
  },
  {
   "cell_type": "markdown",
   "metadata": {},
   "source": [
    "### All together now!"
   ]
  },
  {
   "cell_type": "code",
   "execution_count": null,
   "metadata": {},
   "outputs": [],
   "source": [
    "import stdpopsim\n",
    "species = stdpopsim.get_species(\"HomSap\")\n",
    "model = species.get_demographic_model('OutOfAfrica_3G09')\n",
    "samples = model.get_samples(10, 10, 10)\n",
    "engine = stdpopsim.get_engine('msprime')\n",
    "contig = species.get_contig(\"chr22\", length_multiplier=0.1)\n",
    "ts = engine.simulate(model, contig, samples)"
   ]
  },
  {
   "cell_type": "markdown",
   "metadata": {},
   "source": [
    "-------------\n",
    "## 6. Example analysis\n",
    "Let's suppose we wanted to check if a published model is a good approximation of our real data. To do this, we'll calculate a few population genetics statistics and see if the real data overlap our simulated data. (For this excercise we will simulate some data and pretend it is real data).\n"
   ]
  },
  {
   "cell_type": "markdown",
   "metadata": {},
   "source": [
    "### Simulate our \"real\" data using the CLI\n",
    "We will be simulating our \"real\" data using the human Out-of-Africa with archaic admixture into Papuans.  \n",
    "_Find this model in the catalog._  \n",
    "\n",
    "Let's run the CLI help command for this model"
   ]
  },
  {
   "cell_type": "code",
   "execution_count": null,
   "metadata": {},
   "outputs": [],
   "source": [
    "%%bash\n",
    "stdpopsim HomSap --help-models PapuansOutOfAfrica_10J19"
   ]
  },
  {
   "cell_type": "markdown",
   "metadata": {},
   "source": [
    "_How many populations are there?_  \n",
    "_How many samples do we want to simulate?_  \n",
    "_What chromosome do we want to simulate?_  \n",
    "_Do we want to reduce the chromosome size?_\n",
    "\n",
    "Let's do a dry run first."
   ]
  },
  {
   "cell_type": "code",
   "execution_count": null,
   "metadata": {},
   "outputs": [],
   "source": [
    "%%bash\n",
    "stdpopsim HomSap 10 10 10 -c chr22 -l 0.1 -d PapuansOutOfAfrica_10J19 -o PapuansOutOfAfrica_10J19.ts -D"
   ]
  },
  {
   "cell_type": "markdown",
   "metadata": {},
   "source": [
    "_Does that look right?_\n",
    "\n",
    "Let's simulate for real!"
   ]
  },
  {
   "cell_type": "code",
   "execution_count": null,
   "metadata": {},
   "outputs": [],
   "source": [
    "%%bash\n",
    "stdpopsim HomSap 10 10 10 -c chr22 -l 0.1 -d PapuansOutOfAfrica_10J19 -o PapuansOutOfAfrica_10J19.ts"
   ]
  },
  {
   "cell_type": "markdown",
   "metadata": {},
   "source": [
    "### Convert simulated \"real\" data to vcf format\n",
    "\n",
    "Since we are pretending this is real data, let's convert tree output to vcf format. We can do this using [tskit](https://tskit.readthedocs.io/).  \n",
    "https://tskit.readthedocs.io/en/latest/cli.html?highlight=vcf#vcf"
   ]
  },
  {
   "cell_type": "code",
   "execution_count": null,
   "metadata": {},
   "outputs": [],
   "source": [
    "%%bash\n",
    "tskit vcf --ploidy 2 PapuansOutOfAfrica_10J19.ts > PapuansOutOfAfrica_10J19.vcf"
   ]
  },
  {
   "cell_type": "markdown",
   "metadata": {},
   "source": [
    "Let's take a look at our vcf"
   ]
  },
  {
   "cell_type": "code",
   "execution_count": null,
   "metadata": {},
   "outputs": [],
   "source": [
    "%%bash\n",
    "ls"
   ]
  },
  {
   "cell_type": "code",
   "execution_count": null,
   "metadata": {},
   "outputs": [],
   "source": [
    "%%bash\n",
    "head PapuansOutOfAfrica_10J19.vcf"
   ]
  },
  {
   "cell_type": "markdown",
   "metadata": {},
   "source": [
    "### Simulate a model to compare to \"real\" data with Python API and calculate stats\n",
    "\n",
    "We'll simulate a simpler model with the same samples - human Three population out-of-Africa _n_ times.  \n",
    "_Find this model in the catalog._  \n",
    "\n",
    "_How many populations are there?_  \n",
    "_How many samples do we want to simulate?_  \n",
    "_What chromosome do we want to simulate?_  \n",
    "_Do we want to reduce the chromosome size?_"
   ]
  },
  {
   "cell_type": "markdown",
   "metadata": {},
   "source": [
    "#### Set up the simulation"
   ]
  },
  {
   "cell_type": "code",
   "execution_count": null,
   "metadata": {},
   "outputs": [],
   "source": [
    "import stdpopsim\n",
    "species = stdpopsim.get_species(\"HomSap\")\n",
    "model = species.get_demographic_model('OutOfAfrica_3G09')\n",
    "samples = model.get_samples(10, 10, 10)\n",
    "engine = stdpopsim.get_engine('msprime')\n",
    "contig = species.get_contig(\"chr22\", length_multiplier=0.1)"
   ]
  },
  {
   "cell_type": "markdown",
   "metadata": {},
   "source": [
    "The summary statistics we'll calculate are:\n",
    "- mean genetic diversity (Tajima's pi) for each population"
   ]
  },
  {
   "cell_type": "markdown",
   "metadata": {},
   "source": [
    "#### We will run the simulation and calculate the stats once to make sure everything looks correct"
   ]
  },
  {
   "cell_type": "markdown",
   "metadata": {},
   "source": [
    "Make a list of sample chromosomes (nodes) from each population"
   ]
  },
  {
   "cell_type": "code",
   "execution_count": null,
   "metadata": {},
   "outputs": [],
   "source": [
    "sample_list = []\n",
    "for pop in range(0, ts.num_populations):\n",
    "    sample_list.append(ts.samples(pop).tolist())\n",
    "\n",
    "print(sample_list)"
   ]
  },
  {
   "cell_type": "markdown",
   "metadata": {},
   "source": [
    "Run the simulations and calculate the summary statistics"
   ]
  },
  {
   "cell_type": "code",
   "execution_count": null,
   "metadata": {},
   "outputs": [],
   "source": [
    "n = 10\n",
    "pi_list = []\n",
    "for i in range(n):\n",
    "    ts = engine.simulate(model, contig, samples)\n",
    "    pi_list.append(ts.diversity(sample_sets=sample_list))"
   ]
  },
  {
   "cell_type": "markdown",
   "metadata": {},
   "source": [
    "### Plot stats from simulated and \"real\" data"
   ]
  },
  {
   "cell_type": "markdown",
   "metadata": {},
   "source": [
    "Convert simulated stats to a dataframe (only because I like dataframes)"
   ]
  },
  {
   "cell_type": "code",
   "execution_count": null,
   "metadata": {},
   "outputs": [],
   "source": [
    "import pandas as pd\n",
    "pi_df = pd.DataFrame(data=pi_list, columns=[pop.id for pop in model.populations])\n",
    "pi_df"
   ]
  },
  {
   "cell_type": "code",
   "execution_count": null,
   "metadata": {},
   "outputs": [],
   "source": [
    "pi_df_melted = pd.melt(pi_df, var_name='Pops', value_name='Pi')"
   ]
  },
  {
   "cell_type": "markdown",
   "metadata": {},
   "source": [
    "Plot data"
   ]
  },
  {
   "cell_type": "code",
   "execution_count": null,
   "metadata": {},
   "outputs": [],
   "source": [
    "import seaborn as sns\n",
    "import matplotlib.pyplot as plt\n",
    "ax = sns.histplot(data=pi_df_melted, x=\"Pi\", hue=\"Pops\", bins=30)"
   ]
  },
  {
   "cell_type": "markdown",
   "metadata": {},
   "source": [
    "---------\n",
    "## 7. How to ask for help\n",
    "- Have you read the documentation?\n",
    "- Search open and closed [GitHub issues](https://github.com/popsim-consortium/stdpopsim/issues?q=is%3Aissue)\n",
    "- Write a new GitHub issue \n",
    "- Join the PopSim Slack workspace and post in the #newbie-help channel (An invitation has been sent to all participants. If you have not recieved an invivation, email Ariella, Andy, or Peter)"
   ]
  },
  {
   "cell_type": "markdown",
   "metadata": {},
   "source": [
    "---------\n",
    "## 8. Some examples of what stdpopsim cannot currently do\n",
    "- simulate species or demographic models that are not in the catalog \n",
    "    - if you want to do this, if it is a published model - submit it to stdpopsim, if it is not a published model, use a simulator (e.g. msprime, slim)\n",
    "- simulate parameter values not from the published model (including priors)\n",
    "- simulate selection (in the works!)\n",
    "- simulate missing data and errors (on the horizon!)\n"
   ]
  },
  {
   "cell_type": "markdown",
   "metadata": {},
   "source": [
    "----------\n",
    "## 9. Teaser of how to contribute"
   ]
  },
  {
   "cell_type": "markdown",
   "metadata": {},
   "source": [
    "-----------\n",
    "## 10. Using stdpopsim on your on after the workshop\n",
    "- Can still play in a Jupyter Notebook Binder\n",
    "  - Using this one\n",
    "  - In the Binder associated with the [stdpopsim GitHub repository](https://github.com/popsim-consortium/stdpopsim) [![Binder](https://mybinder.org/badge_logo.svg)](https://mybinder.org/v2/gh/popsim-consortium/stdpopsim/master?filepath=stdpopsim_example.ipynb)\n",
    "- Install stdpopsim locally following the [instructions in the documentation](https://stdpopsim.readthedocs.io/en/latest/installation.html)\n",
    "- Consult the [stdpopsim documentation](https://stdpopsim.readthedocs.io/en/latest/installation.html)"
   ]
  },
  {
   "cell_type": "code",
   "execution_count": null,
   "metadata": {},
   "outputs": [],
   "source": []
  }
 ],
 "metadata": {
  "kernelspec": {
   "display_name": "Python 3",
   "language": "python",
   "name": "python3"
  },
  "language_info": {
   "codemirror_mode": {
    "name": "ipython",
    "version": 3
   },
   "file_extension": ".py",
   "mimetype": "text/x-python",
   "name": "python",
   "nbconvert_exporter": "python",
   "pygments_lexer": "ipython3",
   "version": "3.6.4"
  }
 },
 "nbformat": 4,
 "nbformat_minor": 2
}
