{
 "cells": [
  {
   "cell_type": "markdown",
   "metadata": {
    "slideshow": {
     "slide_type": "slide"
    }
   },
   "source": [
    "# Introduction to using stdpopsim"
   ]
  },
  {
   "cell_type": "markdown",
   "metadata": {},
   "source": [
    "## Welcome to the first stdpopsim workshop!\n",
    "\n",
    "**Instructor:** Ariella Gladstein, postdoc at University of North Carolina, Chapel Hill  \n",
    "**Helpers:**   \n",
    "Andrew Kern   \n",
    "Peter Ralph  \n",
    "Murillo Rodrigues   \n",
    "**Participants:** If you want, introduce yourselves in the Slack chat. What's your name? Where are you located? What do you work on?\n",
    "\n",
    "**Banter/Questions**\n",
    "Please use the Slack #intro-workshop1 channel for participant-participant chatting and for asking for help. To ask a general question, write it in the #intro-workshop1 channel, to ask for one-one help DM @Peter Ralph, @Andy Kern, and @Murillo Fernando Rodrigues "
   ]
  },
  {
   "cell_type": "markdown",
   "metadata": {},
   "source": [
    "## Workshop Outline\n",
    "1. Basics of using Jupyter Notebooks and Binder\n",
    "2. Overview of stdpopsim\n",
    "3. How to Navigate the stdpopsim library catalog\n",
    "4. How to use the command line interface\n",
    "5. How to use the Python API\n",
    "6. Example analysis\n",
    "7. How to ask for help\n",
    "8. Some examples of what stdpopsim cannot currently do\n",
    "9. Teaser of how to contribute\n",
    "10. Using stdpopsim after the workshop"
   ]
  },
  {
   "cell_type": "markdown",
   "metadata": {},
   "source": [
    "----------\n",
    "## 1. Basics of using Jupyter Notebooks and Binder"
   ]
  },
  {
   "cell_type": "markdown",
   "metadata": {},
   "source": [
    "### How to use Jupyter Notebook\n",
    "Jupyter Notebooks have cells where you can write in Markdown and run code.  \n",
    "To execute a cell, click the play button or press shift enter."
   ]
  },
  {
   "cell_type": "code",
   "execution_count": null,
   "metadata": {},
   "outputs": [],
   "source": [
    "print('Try writing some Python here')"
   ]
  },
  {
   "cell_type": "code",
   "execution_count": null,
   "metadata": {},
   "outputs": [],
   "source": [
    "%%bash\n",
    "echo 'We can also use Bash magic. Try writing some Bash here'"
   ]
  },
  {
   "cell_type": "markdown",
   "metadata": {},
   "source": [
    "### MyBinder Specifics\n",
    "- In the cloud\n",
    "- If you are not active it can disconnect\n",
    "- If it seems slow, try to restart the kernel\n",
    "- To save your work you must \"save\" and \"Download\" the notebook"
   ]
  },
  {
   "cell_type": "markdown",
   "metadata": {},
   "source": [
    "---------\n",
    "## 2. Overview of stdpopsim"
   ]
  },
  {
   "cell_type": "markdown",
   "metadata": {},
   "source": [
    "### What is stdpopsim?\n",
    "- Library of previously published population genetic models that can be used to simulate data\n",
    "- Includes simple & complex demographic models\n",
    "- Models have undergone rigorous quality control to ensure what we implement matches original publication"
   ]
  },
  {
   "cell_type": "markdown",
   "metadata": {},
   "source": [
    "### Why is stdpopsim useful?\n",
    "- Increase reproducibility in population genetics modeling\n",
    "- Less work for simulating data to test new inference methods\n",
    "- Facilitate comparisons among inference methods"
   ]
  },
  {
   "cell_type": "markdown",
   "metadata": {},
   "source": [
    "### Phase 1\n",
    "Adrion et al. (2020). _A community-maintained standard library of population genetic models_. eLife. https://doi.org/10.7554/eLife.54967\n",
    "\n",
    "- Focused just on demographic modeling\n",
    "- Uses msprime as simulation engine\n",
    "- Realistic genetic maps for each species"
   ]
  },
  {
   "cell_type": "markdown",
   "metadata": {},
   "source": [
    "---------\n",
    "## 3. How to Navigate the [stdpopsim library catalog](https://stdpopsim.readthedocs.io/en/stable/catalog.html)\n",
    "\n",
    "### The Catalog is organized first by species.\n",
    "\n",
    "_How many species are there?_\n",
    "\n",
    "![](images/catalog.png)\n"
   ]
  },
  {
   "cell_type": "markdown",
   "metadata": {},
   "source": [
    "### Each species has a set of defining attributes. \n",
    "\n",
    "_What are the attributes?_\n",
    "\n",
    "![](images/species_attributes.png)"
   ]
  },
  {
   "cell_type": "markdown",
   "metadata": {},
   "source": [
    "### Each species has defined genome parameters.\n",
    "\n",
    "_What are the genome parameters?_\n",
    "\n",
    "![](images/genome_params.png)"
   ]
  },
  {
   "cell_type": "markdown",
   "metadata": {},
   "source": [
    "### Some species have a genetic map.\n",
    "\n",
    "Genetic maps are stored on AWS and downloaded to cache when used.\n",
    "\n",
    "![](images/genetic_maps.png)"
   ]
  },
  {
   "cell_type": "markdown",
   "metadata": {},
   "source": [
    "### Some species have demographic models.\n",
    "\n",
    "All models are from published models.\n",
    "\n",
    "_What models are available? Are there any you recognize from the literature?_\n",
    "\n",
    "![](images/models.png)"
   ]
  },
  {
   "cell_type": "markdown",
   "metadata": {},
   "source": [
    "### Each model has a description and set of defining attributes. \n",
    "\n",
    "_What are the attributes?_\n",
    "\n",
    "![](images/model_attr.png)"
   ]
  },
  {
   "cell_type": "markdown",
   "metadata": {},
   "source": [
    "### Each model has a table of defined model parameters from the publication. \n",
    "\n",
    "_Can you find where in the original publication the model parameters are given?_\n",
    "\n",
    "![](images/model_params.png)"
   ]
  },
  {
   "cell_type": "markdown",
   "metadata": {},
   "source": [
    "---------------\n",
    "## 4. How to use the command line interface\n",
    "Resources:\n",
    "- [Documentation](https://stdpopsim.readthedocs.io/en/stable/cli_arguments.html)\n",
    "- [Tutorials](https://stdpopsim.readthedocs.io/en/stable/tutorial.html#running-stdpopsim-with-the-command-line-interface-cli)"
   ]
  },
  {
   "cell_type": "markdown",
   "metadata": {},
   "source": [
    "### Run stdpopsim with the help option"
   ]
  },
  {
   "cell_type": "code",
   "execution_count": null,
   "metadata": {},
   "outputs": [],
   "source": [
    "%%bash\n",
    "stdpopsim --help"
   ]
  },
  {
   "cell_type": "markdown",
   "metadata": {},
   "source": [
    "`stdpopsim` uses a combination of [_positional arguments_](https://stdpopsim.readthedocs.io/en/stable/cli_arguments.html#Positional%20Arguments), which are required, and [_named arguments_](https://stdpopsim.readthedocs.io/en/stable/cli_arguments.html#Named%20Arguments), which are optional."
   ]
  },
  {
   "cell_type": "markdown",
   "metadata": {},
   "source": [
    "### Find your species and run stdpopsim with that species with the help option"
   ]
  },
  {
   "cell_type": "code",
   "execution_count": null,
   "metadata": {},
   "outputs": [],
   "source": [
    "%%bash\n",
    "stdpopsim HomSap --help"
   ]
  },
  {
   "cell_type": "markdown",
   "metadata": {},
   "source": [
    "### Find your model and run stdpopsim with that model with the help option"
   ]
  },
  {
   "cell_type": "code",
   "execution_count": null,
   "metadata": {},
   "outputs": [],
   "source": [
    "%%bash\n",
    "stdpopsim HomSap \\\n",
    "        --help-models OutOfAfrica_3G09"
   ]
  },
  {
   "cell_type": "markdown",
   "metadata": {},
   "source": [
    "## Run a simulation\n",
    "- pick the number of samples for each population\n",
    "- pick a chromosome\n",
    "- decide on an output file\n",
    "- do you want a recombination map?\n",
    "- do you want a fraction of the chromosome?"
   ]
  },
  {
   "cell_type": "markdown",
   "metadata": {},
   "source": [
    "Let's do a dry run first by using `-D`."
   ]
  },
  {
   "cell_type": "code",
   "execution_count": 1,
   "metadata": {},
   "outputs": [
    {
     "name": "stderr",
     "output_type": "stream",
     "text": [
      "Simulation information:\n",
      "    Engine: msprime (0.7.4)\n",
      "    Model id: OutOfAfrica_3G09\n",
      "    Model desciption: Three population out-of-Africa\n",
      "    Population: number_samples (sampling_time_generations):\n",
      "        YRI: 10 (0)\n",
      "        CEU: 10 (0)\n",
      "        CHB: 10 (0)\n",
      "Contig Description:\n",
      "    Contig length: 5130456.600000001\n",
      "    Mean recombination rate: 1.4445022767788226e-08\n",
      "    Mean mutation rate: 1.29e-08\n",
      "    Genetic map: None\n",
      "\n",
      "If you use this simulation in published work, please cite:\n",
      "[stdpopsim]\n",
      "Adrion et al., 2019: https://doi.org/10.1101/2019.12.20.885129\n",
      "[simulation engine]\n",
      "Kelleher et al., 2016: https://doi.org/10.1371/journal.pcbi.1004842\n",
      "[genome assembly]\n",
      "The Genome Sequencing Consortium, 2001: http://dx.doi.org/10.1038/35057062\n",
      "[mutation rate]\n",
      "Tian, Browning, and Browning, 2019: https://doi.org/10.1016/j.ajhg.2019.09.012\n",
      "[recombination rate]\n",
      "The International HapMap Consortium, 2007: https://doi.org/10.1038/nature06258\n",
      "[demographic model]\n",
      "Gutenkunst et al., 2009: https://doi.org/10.1371/journal.pgen.1000695\n"
     ]
    }
   ],
   "source": [
    "%%bash\n",
    "stdpopsim HomSap 10 10 10 \\\n",
    "         --chromosome chr22 \\\n",
    "         --length-multiplier 0.1 \\\n",
    "         --demographic-model OutOfAfrica_3G09 \\\n",
    "         --output OutOfAfrica_3G09.ts \\\n",
    "         -D"
   ]
  },
  {
   "cell_type": "markdown",
   "metadata": {},
   "source": [
    "Does that look right? If so, let's do the simulation!"
   ]
  },
  {
   "cell_type": "code",
   "execution_count": null,
   "metadata": {},
   "outputs": [],
   "source": [
    "%%bash\n",
    "stdpopsim HomSap 10 10 10 \\\n",
    "         --chromosome chr22 \\\n",
    "         --length-multiplier 0.1 \\\n",
    "         --demographic-model OutOfAfrica_3G09 \\\n",
    "         --output OutOfAfrica_3G09.ts"
   ]
  },
  {
   "cell_type": "code",
   "execution_count": null,
   "metadata": {},
   "outputs": [],
   "source": [
    "%%bash\n",
    "tskit vcf --ploidy 2 OutOfAfrica_3G09.ts > OutOfAfrica_3G09.vcf"
   ]
  },
  {
   "cell_type": "markdown",
   "metadata": {},
   "source": [
    "Let's take a look at our vcf"
   ]
  },
  {
   "cell_type": "code",
   "execution_count": null,
   "metadata": {},
   "outputs": [],
   "source": [
    "%%bash\n",
    "ls"
   ]
  },
  {
   "cell_type": "code",
   "execution_count": null,
   "metadata": {},
   "outputs": [],
   "source": [
    "%%bash\n",
    "head OutOfAfrica_3G09.vcf"
   ]
  },
  {
   "cell_type": "markdown",
   "metadata": {},
   "source": [
    "### _Pick a species and demographic model you want to simulate_\n",
    "And try yourself!"
   ]
  },
  {
   "cell_type": "code",
   "execution_count": null,
   "metadata": {},
   "outputs": [],
   "source": [
    "%%bash\n",
    "stdpopsim #fill me!"
   ]
  },
  {
   "cell_type": "markdown",
   "metadata": {},
   "source": [
    "---------------\n",
    "## 5. How to use the Python API\n",
    "Resources:\n",
    "- [Documentation](https://stdpopsim.readthedocs.io/en/stable/api.html)\n",
    "- [Tutorials](https://stdpopsim.readthedocs.io/en/stable/tutorial.html#running-stdpopsim-with-the-python-interface-api)"
   ]
  },
  {
   "cell_type": "markdown",
   "metadata": {},
   "source": [
    "### Import stdpopsim"
   ]
  },
  {
   "cell_type": "code",
   "execution_count": null,
   "metadata": {},
   "outputs": [],
   "source": [
    "import stdpopsim"
   ]
  },
  {
   "cell_type": "markdown",
   "metadata": {},
   "source": [
    "### Set your species\n",
    "https://stdpopsim.readthedocs.io/en/stable/api.html#stdpopsim.get_species"
   ]
  },
  {
   "cell_type": "code",
   "execution_count": null,
   "metadata": {},
   "outputs": [],
   "source": [
    "species = stdpopsim.get_species(\"HomSap\")"
   ]
  },
  {
   "cell_type": "markdown",
   "metadata": {},
   "source": [
    "### Find your demographic model\n",
    "https://stdpopsim.readthedocs.io/en/stable/api.html#stdpopsim.DemographicModel"
   ]
  },
  {
   "cell_type": "code",
   "execution_count": null,
   "metadata": {},
   "outputs": [],
   "source": [
    "for model in species.demographic_models:\n",
    "    print(model.id)"
   ]
  },
  {
   "cell_type": "markdown",
   "metadata": {},
   "source": [
    "### Set your demographic model\n",
    "https://stdpopsim.readthedocs.io/en/stable/api.html#stdpopsim.Species.get_demographic_model"
   ]
  },
  {
   "cell_type": "code",
   "execution_count": null,
   "metadata": {},
   "outputs": [],
   "source": [
    "model = species.get_demographic_model('OutOfAfrica_3G09')"
   ]
  },
  {
   "cell_type": "markdown",
   "metadata": {},
   "source": [
    "### Verify the simulated populations"
   ]
  },
  {
   "cell_type": "code",
   "execution_count": null,
   "metadata": {},
   "outputs": [],
   "source": [
    "print([pop.id for pop in model.populations])"
   ]
  },
  {
   "cell_type": "markdown",
   "metadata": {},
   "source": [
    "### Set the number of samples"
   ]
  },
  {
   "cell_type": "code",
   "execution_count": null,
   "metadata": {},
   "outputs": [],
   "source": [
    "samples = model.get_samples(10, 10, 10)"
   ]
  },
  {
   "cell_type": "markdown",
   "metadata": {},
   "source": [
    "### Specify the simulator\n",
    "https://stdpopsim.readthedocs.io/en/stable/api.html#simulation-engines"
   ]
  },
  {
   "cell_type": "code",
   "execution_count": null,
   "metadata": {},
   "outputs": [],
   "source": [
    "engine = stdpopsim.get_engine('msprime')"
   ]
  },
  {
   "cell_type": "markdown",
   "metadata": {},
   "source": [
    "### Set your chromosome\n",
    "https://stdpopsim.readthedocs.io/en/stable/api.html#stdpopsim.Species.get_contig"
   ]
  },
  {
   "cell_type": "code",
   "execution_count": null,
   "metadata": {},
   "outputs": [],
   "source": [
    "contig = species.get_contig(\"chr22\", length_multiplier=0.1)"
   ]
  },
  {
   "cell_type": "markdown",
   "metadata": {},
   "source": [
    "### Ready to simulate!\n",
    "https://stdpopsim.readthedocs.io/en/stable/api.html#stdpopsim.Engine.simulate"
   ]
  },
  {
   "cell_type": "code",
   "execution_count": null,
   "metadata": {},
   "outputs": [],
   "source": [
    "%%time\n",
    "ts = engine.simulate(model, contig, samples)"
   ]
  },
  {
   "cell_type": "markdown",
   "metadata": {},
   "source": [
    "### All together now!"
   ]
  },
  {
   "cell_type": "code",
   "execution_count": null,
   "metadata": {},
   "outputs": [],
   "source": [
    "import stdpopsim\n",
    "species = stdpopsim.get_species(\"HomSap\")\n",
    "model = species.get_demographic_model('OutOfAfrica_3G09')\n",
    "samples = model.get_samples(10, 10, 10)\n",
    "engine = stdpopsim.get_engine('msprime')\n",
    "contig = species.get_contig(\"chr22\", length_multiplier=0.1)\n",
    "ts = engine.simulate(model, contig, samples)"
   ]
  },
  {
   "cell_type": "markdown",
   "metadata": {},
   "source": [
    "-------------\n",
    "## 6. Example analysis\n",
    "Let's suppose we wanted to check if a published model is a good approximation of our real data. To do this, we'll calculate a few population genetics statistics and see if the real data overlap our simulated data. (For this excercise we will assume some value for the stats from the real data).\n"
   ]
  },
  {
   "cell_type": "markdown",
   "metadata": {},
   "source": [
    "### Our pretend real data\n",
    "Let's say we have samples from three human populations, and they have a mean genetic diversity of: 0.00045, 0.00029, 0.00027."
   ]
  },
  {
   "cell_type": "code",
   "execution_count": null,
   "metadata": {},
   "outputs": [],
   "source": [
    "piA = 0.00045\n",
    "piB = 0.00029\n",
    "piC = 0.00027"
   ]
  },
  {
   "cell_type": "markdown",
   "metadata": {},
   "source": [
    "### Simulate a model to compare to real data and calculate stats\n",
    "\n",
    "We'll simulate the human Three population out-of-Africa _n_ times.  \n",
    "_Find this model in the catalog._  \n",
    "\n",
    "_How many populations are there?_  \n",
    "_How many samples do we want to simulate?_  \n",
    "_What chromosome do we want to simulate?_  \n",
    "_Do we want to reduce the chromosome size?_"
   ]
  },
  {
   "cell_type": "markdown",
   "metadata": {},
   "source": [
    "#### Set up the simulation"
   ]
  },
  {
   "cell_type": "code",
   "execution_count": null,
   "metadata": {},
   "outputs": [],
   "source": [
    "import stdpopsim\n",
    "species = stdpopsim.get_species(\"HomSap\")\n",
    "model = species.get_demographic_model('OutOfAfrica_3G09')\n",
    "samples = model.get_samples(10, 10, 10)\n",
    "engine = stdpopsim.get_engine('msprime')\n",
    "contig = species.get_contig(\"chr22\", length_multiplier=0.1)"
   ]
  },
  {
   "cell_type": "markdown",
   "metadata": {},
   "source": [
    "#### Simulation and calculate the stats in a for loop"
   ]
  },
  {
   "cell_type": "markdown",
   "metadata": {},
   "source": [
    "Make a list of sample chromosomes (nodes) from each population"
   ]
  },
  {
   "cell_type": "code",
   "execution_count": null,
   "metadata": {},
   "outputs": [],
   "source": [
    "def make_sample_list(ts):\n",
    "    sample_list = []\n",
    "    for pop in range(0, ts.num_populations):\n",
    "        sample_list.append(ts.samples(pop).tolist())\n",
    "    return sample_list"
   ]
  },
  {
   "cell_type": "markdown",
   "metadata": {},
   "source": [
    "Run the simulations and calculate the summary statistics"
   ]
  },
  {
   "cell_type": "code",
   "execution_count": null,
   "metadata": {},
   "outputs": [],
   "source": [
    "%%time\n",
    "from progressbar import ProgressBar #This is just to get a progress bar\n",
    "pbar = ProgressBar() #This is just to get a progress bar\n",
    "\n",
    "n = 50\n",
    "pi_list = []\n",
    "for i in pbar(range(n)):\n",
    "    ts = engine.simulate(model, contig, samples)\n",
    "    sample_list = make_sample_list(ts)\n",
    "    pi_list.append(ts.diversity(sample_sets=sample_list))\n",
    "print('Done simulating {} replicates!'.format(n))"
   ]
  },
  {
   "cell_type": "markdown",
   "metadata": {},
   "source": [
    "### Plot stats from simulated and \"real\" data"
   ]
  },
  {
   "cell_type": "markdown",
   "metadata": {},
   "source": [
    "Convert simulated stats to a dataframe (only because I like dataframes)"
   ]
  },
  {
   "cell_type": "code",
   "execution_count": null,
   "metadata": {},
   "outputs": [],
   "source": [
    "import pandas as pd\n",
    "pi_df = pd.DataFrame(data=pi_list, columns=[pop.id for pop in model.populations])\n",
    "pi_df"
   ]
  },
  {
   "cell_type": "code",
   "execution_count": null,
   "metadata": {},
   "outputs": [],
   "source": [
    "pi_df_melted = pd.melt(pi_df, var_name='Pops', value_name='Pi')"
   ]
  },
  {
   "cell_type": "markdown",
   "metadata": {},
   "source": [
    "Plot data"
   ]
  },
  {
   "cell_type": "code",
   "execution_count": null,
   "metadata": {},
   "outputs": [],
   "source": [
    "import seaborn as sns\n",
    "import matplotlib.pyplot as plt\n",
    "ax = sns.histplot(data=pi_df_melted, x=\"Pi\", hue=\"Pops\", bins=30)\n",
    "ax.axvline(x=piA, color='blue')\n",
    "ax.axvline(x=piB, color='orange')\n",
    "ax.axvline(x=piC, color='green')"
   ]
  },
  {
   "cell_type": "markdown",
   "metadata": {},
   "source": [
    "---------\n",
    "## 7. How to ask for help\n",
    "- Have you read the documentation?\n",
    "- Search open and closed [GitHub issues](https://github.com/popsim-consortium/stdpopsim/issues?q=is%3Aissue)\n",
    "- Write a new GitHub issue \n",
    "- Join the PopSim Slack workspace and post in the #newbie-help channel (An invitation has been sent to all participants. If you have not recieved an invitation, email Ariella, Andy, or Peter)"
   ]
  },
  {
   "cell_type": "markdown",
   "metadata": {},
   "source": [
    "---------\n",
    "## 8. Some examples of what stdpopsim cannot currently do\n",
    "- simulate species or demographic models that are not in the catalog \n",
    "    - if you want to do this, if it is a published model - submit it to stdpopsim, if it is not a published model, use a simulator (e.g. msprime, slim)\n",
    "- simulate parameter values not from the published model (including priors)\n",
    "- simulate selection (in the works!)\n",
    "- simulate missing data and errors (on the horizon!)\n"
   ]
  },
  {
   "cell_type": "markdown",
   "metadata": {},
   "source": [
    "----------\n",
    "## 9. Teaser of how to contribute"
   ]
  },
  {
   "cell_type": "markdown",
   "metadata": {},
   "source": [
    "-----------\n",
    "## 10. Using stdpopsim on your own after the workshop\n",
    "- Can still play in a Jupyter Notebook Binder\n",
    "  - Using this one\n",
    "  - In the Binder associated with the [stdpopsim GitHub repository](https://github.com/popsim-consortium/stdpopsim) [![Binder](https://mybinder.org/badge_logo.svg)](https://mybinder.org/v2/gh/popsim-consortium/stdpopsim/master?filepath=stdpopsim_example.ipynb)\n",
    "- Install stdpopsim locally following the [instructions in the documentation](https://stdpopsim.readthedocs.io/en/stable/installation.html)\n",
    "- Consult the [stdpopsim documentation](https://stdpopsim.readthedocs.io/en/stable/installation.html)"
   ]
  }
 ],
 "metadata": {
  "kernelspec": {
   "display_name": "Python 3",
   "language": "python",
   "name": "python3"
  },
  "language_info": {
   "codemirror_mode": {
    "name": "ipython",
    "version": 3
   },
   "file_extension": ".py",
   "mimetype": "text/x-python",
   "name": "python",
   "nbconvert_exporter": "python",
   "pygments_lexer": "ipython3",
   "version": "3.6.4"
  }
 },
 "nbformat": 4,
 "nbformat_minor": 4
}
