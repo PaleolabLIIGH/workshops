{
 "cells": [
  {
   "cell_type": "markdown",
   "metadata": {
    "slideshow": {
     "slide_type": "slide"
    }
   },
   "source": [
    "# Introduction to using stdpopsim"
   ]
  },
  {
   "cell_type": "markdown",
   "metadata": {},
   "source": [
    "## Workshop Outline\n",
    "1. Basics of using Jupyter Notebooks\n",
    "2. Overview of stdpopsim\n",
    "3. How to use the Python API\n",
    "4. How to use the command line interface\n",
    "5. Example analysis\n",
    "6. How to ask for help\n",
    "7. Some examples of what stdpopsim cannot currently do\n",
    "8. Teaser of how to contribute\n",
    "9. Using stdpopsim after the workshop  \n",
    "10. How to Navigate the stdpopsim library catalog"
   ]
  },
  {
   "cell_type": "markdown",
   "metadata": {},
   "source": [
    "----------\n",
    "## 1. Basics of using Jupyter Notebooks"
   ]
  },
  {
   "cell_type": "markdown",
   "metadata": {},
   "source": [
    "Jupyter Notebooks have cells where you can write in Markdown and run code.  \n",
    "To execute a cell, click the run button or press shift enter."
   ]
  },
  {
   "cell_type": "code",
   "execution_count": 1,
   "metadata": {},
   "outputs": [
    {
     "name": "stdout",
     "output_type": "stream",
     "text": [
      "Try writing some Python here\n"
     ]
    }
   ],
   "source": [
    "print('Try writing some Python here')"
   ]
  },
  {
   "cell_type": "code",
   "execution_count": 2,
   "metadata": {},
   "outputs": [
    {
     "name": "stdout",
     "output_type": "stream",
     "text": [
      "We can also use Bash magic. Try writing some Bash here\n"
     ]
    }
   ],
   "source": [
    "%%bash\n",
    "echo 'We can also use Bash magic. Try writing some Bash here'"
   ]
  },
  {
   "cell_type": "markdown",
   "metadata": {},
   "source": [
    "---------\n",
    "## 2. Overview of stdpopsim"
   ]
  },
  {
   "cell_type": "markdown",
   "metadata": {},
   "source": [
    "### What is stdpopsim?\n",
    "- Library of previously published population genetic models that can be used to simulate data\n",
    "- Includes simple & complex demographic models\n",
    "- Models have undergone rigorous quality control to ensure what we implement matches the original publication"
   ]
  },
  {
   "cell_type": "markdown",
   "metadata": {},
   "source": [
    "### Why is stdpopsim useful?\n",
    "- Increase reproducibility in population genetics modeling\n",
    "- Less work for simulating data to test new inference methods\n",
    "- Facilitate comparisons among inference methods"
   ]
  },
  {
   "attachments": {},
   "cell_type": "markdown",
   "metadata": {},
   "source": [
    "### Phase 1\n",
    "Adrion et al. (2020). _A community-maintained standard library of population genetic models_. eLife. https://doi.org/10.7554/eLife.54967\n",
    "\n",
    "- Focused just on demographic modeling\n",
    "- Used msprime as simulation engine\n",
    "- Realistic genetic maps for each species\n",
    "\n",
    "### Phase 2\n",
    "Lauterbur et al. (2023) _Expanding the stdpopsim species catalog, and lessons learned for realistic genome simulations_ eLife. https://doi.org/10.7554/eLife.84874.1\n",
    "\n",
    "- Expanded the catalog to 21 species!\n",
    "- SLiM now fully functional as backend simulation engine\n",
    "- Functions for modeling selection introduced\n",
    "\n",
    "### Phase 3\n",
    "New manuscript coming this year!\n",
    "\n",
    "- Implemented models of selection in numerous genomes\n",
    "- Published DFEs included\n",
    "- Species-specific annotations (CDS, exons) included"
   ]
  },
  {
   "cell_type": "markdown",
   "metadata": {},
   "source": []
  },
  {
   "cell_type": "markdown",
   "metadata": {},
   "source": [
    "### How to use stdpopsim\n",
    "- Python API\n",
    "  - more flexible\n",
    "  - access to tskit functionality\n",
    "  - faster for more replicates\n",
    "- command line interface\n",
    "  - one-liner\n",
    "  - nice for people familiar with command line\n",
    "  - easy to put into a bigger workflow"
   ]
  },
  {
   "cell_type": "markdown",
   "metadata": {},
   "source": [
    "---------------\n",
    "## 3. How to use the Python API"
   ]
  },
  {
   "cell_type": "markdown",
   "metadata": {},
   "source": [
    "### Import the stdpopsim package"
   ]
  },
  {
   "cell_type": "code",
   "execution_count": 1,
   "metadata": {},
   "outputs": [],
   "source": [
    "import stdpopsim"
   ]
  },
  {
   "cell_type": "markdown",
   "metadata": {},
   "source": [
    "### Open the catalog page"
   ]
  },
  {
   "cell_type": "markdown",
   "metadata": {},
   "source": [
    "Resources:\n",
    "- [Catalog](https://stdpopsim.readthedocs.io/en/stable/catalog.html#)\n",
    "- [Documentation](https://stdpopsim.readthedocs.io/en/stable/api.html)\n",
    "- [Tutorials](https://stdpopsim.readthedocs.io/en/stable/tutorial.html#running-stdpopsim-with-the-python-interface-api)"
   ]
  },
  {
   "cell_type": "markdown",
   "metadata": {},
   "source": [
    "### Which species?\n",
    "\n",
    "Let's simulate humans.\n",
    "\n",
    "_Use the [catalog](https://stdpopsim.readthedocs.io/en/stable/catalog.html#) to find available species_\n",
    "\n",
    "https://stdpopsim.readthedocs.io/en/stable/api.html#stdpopsim.get_species"
   ]
  },
  {
   "cell_type": "code",
   "execution_count": 4,
   "metadata": {},
   "outputs": [],
   "source": [
    "species = stdpopsim.get_species(\"HomSap\")"
   ]
  },
  {
   "cell_type": "markdown",
   "metadata": {},
   "source": [
    "### Which chromosome?\n",
    "\n",
    "We'll simulate a region that is 10% of the length of chromosome 22.\n",
    "\n",
    "Find what chromosomes are available in the [catalog](https://stdpopsim.readthedocs.io/en/stable/catalog.html#)\n",
    "\n",
    "https://stdpopsim.readthedocs.io/en/stable/api.html#stdpopsim.Species.get_contig"
   ]
  },
  {
   "cell_type": "code",
   "execution_count": 5,
   "metadata": {},
   "outputs": [],
   "source": [
    "contig = species.get_contig(\"chr22\", length_multiplier=0.1)"
   ]
  },
  {
   "cell_type": "markdown",
   "metadata": {},
   "source": [
    "Using a *real* genetic map: (cannot be used in conjunction with `length_multiplier`)"
   ]
  },
  {
   "cell_type": "code",
   "execution_count": 6,
   "metadata": {},
   "outputs": [],
   "source": [
    "#contig = species.get_contig(\"chr22\", genetic_map=\"HapMapII_GRCh38\")"
   ]
  },
  {
   "cell_type": "markdown",
   "metadata": {},
   "source": [
    "Using an alternative mutation or recombination rate:"
   ]
  },
  {
   "cell_type": "code",
   "execution_count": 7,
   "metadata": {},
   "outputs": [],
   "source": [
    "# other_contig = stdpopsim.Contig(\n",
    "#     mutation_rate=contig.mutation_rate*0.5,\n",
    "#     recombination_map=contig.recombination_map\n",
    "# ) "
   ]
  },
  {
   "cell_type": "markdown",
   "metadata": {},
   "source": [
    "\n",
    "\n",
    "### Which demographic model?\n",
    "https://stdpopsim.readthedocs.io/en/stable/api.html#stdpopsim.DemographicModel"
   ]
  },
  {
   "cell_type": "markdown",
   "metadata": {},
   "source": [
    "Use the [catalog](https://stdpopsim.readthedocs.io/en/stable/catalog.html#) to find available demographic models.\n",
    "You can also see them in the `species` object you just created:"
   ]
  },
  {
   "cell_type": "code",
   "execution_count": 8,
   "metadata": {},
   "outputs": [
    {
     "name": "stdout",
     "output_type": "stream",
     "text": [
      "OutOfAfricaExtendedNeandertalAdmixturePulse_3I21\n",
      "OutOfAfrica_3G09\n",
      "OutOfAfrica_2T12\n",
      "Africa_1T12\n",
      "AmericanAdmixture_4B11\n",
      "OutOfAfricaArchaicAdmixture_5R19\n",
      "Zigzag_1S14\n",
      "AncientEurasia_9K19\n",
      "PapuansOutOfAfrica_10J19\n",
      "AshkSub_7G19\n",
      "OutOfAfrica_4J17\n",
      "Africa_1B08\n",
      "AncientEurope_4A21\n"
     ]
    }
   ],
   "source": [
    "for model in species.demographic_models:\n",
    "    print(model.id)"
   ]
  },
  {
   "cell_type": "markdown",
   "metadata": {},
   "source": [
    "Then set your demographic model.\n",
    "https://stdpopsim.readthedocs.io/en/stable/api.html#stdpopsim.Species.get_demographic_model"
   ]
  },
  {
   "cell_type": "code",
   "execution_count": 9,
   "metadata": {},
   "outputs": [],
   "source": [
    "model = species.get_demographic_model('OutOfAfrica_3G09')"
   ]
  },
  {
   "cell_type": "markdown",
   "metadata": {},
   "source": [
    "You may want to verify that the simulated populations are correct."
   ]
  },
  {
   "cell_type": "code",
   "execution_count": 10,
   "metadata": {},
   "outputs": [
    {
     "name": "stdout",
     "output_type": "stream",
     "text": [
      "['YRI', 'CEU', 'CHB']\n"
     ]
    }
   ],
   "source": [
    "print([pop.name for pop in model.populations])"
   ]
  },
  {
   "cell_type": "markdown",
   "metadata": {},
   "source": [
    "### How many samples?"
   ]
  },
  {
   "cell_type": "code",
   "execution_count": 11,
   "metadata": {},
   "outputs": [],
   "source": [
    "samples = {\"YRI\": 5, \"CHB\": 5, \"CEU\": 0}"
   ]
  },
  {
   "cell_type": "markdown",
   "metadata": {},
   "source": [
    "### Which simulator?\n",
    "https://stdpopsim.readthedocs.io/en/stable/api.html#simulation-engines"
   ]
  },
  {
   "cell_type": "code",
   "execution_count": 12,
   "metadata": {},
   "outputs": [],
   "source": [
    "engine = stdpopsim.get_engine('msprime')"
   ]
  },
  {
   "cell_type": "markdown",
   "metadata": {},
   "source": [
    "We're now ready to simulate:\n",
    "https://stdpopsim.readthedocs.io/en/stable/api.html#stdpopsim.Engine.simulate"
   ]
  },
  {
   "cell_type": "code",
   "execution_count": 13,
   "metadata": {},
   "outputs": [
    {
     "name": "stderr",
     "output_type": "stream",
     "text": [
      "/Users/adk/github/stdpopsim/stdpopsim/engines.py:120: UserWarning: The demographic model has mutation rate 2.35e-08, but this simulation used the contig's mutation rate 1.29e-08. Diversity levels may be different than expected for this species. For details see documentation at https://popsim-consortium.github.io/stdpopsim-docs/stable/tutorial.html\n",
      "  warnings.warn(\n"
     ]
    },
    {
     "name": "stdout",
     "output_type": "stream",
     "text": [
      "CPU times: user 544 ms, sys: 17.5 ms, total: 561 ms\n",
      "Wall time: 599 ms\n"
     ]
    }
   ],
   "source": [
    "%%time\n",
    "ts = engine.simulate(model, contig, samples, seed=1)"
   ]
  },
  {
   "cell_type": "markdown",
   "metadata": {},
   "source": [
    "## Output\n",
    "### to a tree sequence file"
   ]
  },
  {
   "cell_type": "code",
   "execution_count": 14,
   "metadata": {},
   "outputs": [],
   "source": [
    "ts.dump(\"OutOfAfrica_3G09_API.ts\")"
   ]
  },
  {
   "cell_type": "markdown",
   "metadata": {},
   "source": [
    "### to a vcf file"
   ]
  },
  {
   "cell_type": "code",
   "execution_count": 15,
   "metadata": {},
   "outputs": [],
   "source": [
    "with open(\"OutOfAfrica_3G09_API.vcf\", \"w\") as vcf_file:\n",
    "    ts.write_vcf(vcf_file, contig_id='22')"
   ]
  },
  {
   "cell_type": "markdown",
   "metadata": {},
   "source": [
    "Let's take a look at our vcf:"
   ]
  },
  {
   "cell_type": "code",
   "execution_count": 16,
   "metadata": {},
   "outputs": [
    {
     "name": "stdout",
     "output_type": "stream",
     "text": [
      "Intro_stdpopsim.ipynb\n",
      "Intro_stdpopsim_fillme.ipynb\n",
      "OutOfAfrica_3G09_API.ts\n",
      "OutOfAfrica_3G09_API.vcf\n",
      "README.md\n",
      "images\n"
     ]
    }
   ],
   "source": [
    "%%bash\n",
    "ls"
   ]
  },
  {
   "cell_type": "code",
   "execution_count": 17,
   "metadata": {},
   "outputs": [
    {
     "name": "stdout",
     "output_type": "stream",
     "text": [
      "##fileformat=VCFv4.2\n",
      "##source=tskit 0.5.4\n",
      "##FILTER=<ID=PASS,Description=\"All filters passed\">\n",
      "##contig=<ID=22,length=5081847>\n",
      "##FORMAT=<ID=GT,Number=1,Type=String,Description=\"Genotype\">\n",
      "#CHROM\tPOS\tID\tREF\tALT\tQUAL\tFILTER\tINFO\tFORMAT\ttsk_0\ttsk_1\ttsk_2\ttsk_3\ttsk_4\ttsk_5\ttsk_6\ttsk_7\ttsk_8\ttsk_9\n",
      "22\t329\t0\tC\tG\t.\tPASS\t.\tGT\t0|0\t0|0\t0|0\t0|0\t0|1\t0|0\t0|0\t0|0\t0|0\t0|0\n",
      "22\t591\t1\tC\tG\t.\tPASS\t.\tGT\t0|1\t0|0\t0|0\t0|0\t1|1\t1|1\t1|1\t1|1\t1|1\t1|1\n",
      "22\t892\t2\tT\tC\t.\tPASS\t.\tGT\t0|0\t0|0\t1|0\t0|0\t0|0\t0|0\t0|0\t0|0\t0|0\t0|0\n",
      "22\t1322\t3\tC\tG\t.\tPASS\t.\tGT\t1|0\t1|0\t0|0\t0|0\t0|0\t0|0\t0|0\t0|0\t0|0\t0|0\n"
     ]
    }
   ],
   "source": [
    "%%bash\n",
    "head OutOfAfrica_3G09_API.vcf"
   ]
  },
  {
   "cell_type": "markdown",
   "metadata": {},
   "source": [
    "### All together now!"
   ]
  },
  {
   "cell_type": "code",
   "execution_count": 18,
   "metadata": {},
   "outputs": [
    {
     "name": "stderr",
     "output_type": "stream",
     "text": [
      "/Users/adk/github/stdpopsim/stdpopsim/engines.py:120: UserWarning: The demographic model has mutation rate 2.35e-08, but this simulation used the contig's mutation rate 1.29e-08. Diversity levels may be different than expected for this species. For details see documentation at https://popsim-consortium.github.io/stdpopsim-docs/stable/tutorial.html\n",
      "  warnings.warn(\n"
     ]
    }
   ],
   "source": [
    "import stdpopsim\n",
    "species = stdpopsim.get_species(\"HomSap\")\n",
    "model = species.get_demographic_model('OutOfAfrica_3G09')\n",
    "samples = {\"YRI\": 5, \"CHB\": 5, \"CEU\": 0}\n",
    "engine = stdpopsim.get_engine('msprime')\n",
    "contig = species.get_contig(\"chr22\", length_multiplier=0.1)\n",
    "ts = engine.simulate(model, contig, samples)\n",
    "ts.dump(\"OutOfAfrica_3G09_API.trees\")\n",
    "with open(\"OutOfAfrica_3G09_API.vcf\", \"w\") as vcf_file:\n",
    "    ts.write_vcf(vcf_file, contig_id='22')"
   ]
  },
  {
   "cell_type": "markdown",
   "metadata": {},
   "source": [
    "### _Try to simulate the Arabidopsis South Middle Atlas piecewise constant size model!_"
   ]
  },
  {
   "cell_type": "code",
   "execution_count": 19,
   "metadata": {},
   "outputs": [
    {
     "ename": "SyntaxError",
     "evalue": "invalid syntax (2027073239.py, line 3)",
     "output_type": "error",
     "traceback": [
      "\u001b[0;36m  Input \u001b[0;32mIn [19]\u001b[0;36m\u001b[0m\n\u001b[0;31m    samples =  #fill me!\u001b[0m\n\u001b[0m               ^\u001b[0m\n\u001b[0;31mSyntaxError\u001b[0m\u001b[0;31m:\u001b[0m invalid syntax\n"
     ]
    }
   ],
   "source": [
    "species = stdpopsim.get_species(\"\") #fill me!\n",
    "model = species.get_demographic_model('') #fill me!\n",
    "samples =  #fill me!\n",
    "engine = stdpopsim.get_engine('msprime')\n",
    "contig = species.get_contig(\"\", length_multiplier=0.1) #fill me!\n",
    "ts = engine.simulate(model, contig, samples)"
   ]
  },
  {
   "cell_type": "markdown",
   "metadata": {},
   "source": [
    "### Questions?"
   ]
  },
  {
   "cell_type": "markdown",
   "metadata": {},
   "source": [
    "---------------\n",
    "## 4. How to use the command line interface\n",
    "Resources:\n",
    "- [Documentation](https://stdpopsim.readthedocs.io/en/stable/cli_arguments.html)\n",
    "- [Tutorials](https://stdpopsim.readthedocs.io/en/stable/tutorial.html#running-stdpopsim-with-the-command-line-interface-cli)"
   ]
  },
  {
   "cell_type": "markdown",
   "metadata": {},
   "source": [
    "### Run stdpopsim with the help option"
   ]
  },
  {
   "cell_type": "code",
   "execution_count": 20,
   "metadata": {},
   "outputs": [
    {
     "name": "stdout",
     "output_type": "stream",
     "text": [
      "usage: stdpopsim [-h] [-V] [-v | -q] [-c CACHE_DIR] [-e {msprime,slim}]\n",
      "                 [--msprime-model {hudson,dtwf,smc,smc_prime}]\n",
      "                 [--msprime-change-model T MODEL] [--slim-path PATH]\n",
      "                 [--slim-script] [--slim-scaling-factor Q] [--slim-burn-in X]\n",
      "                 {AedAeg,AnaPla,AnoCar,AnoGam,ApiMel,AraTha,BosTau,CaeEle,CanFam,ChlRei,DroMel,DroSec,EscCol,GasAcu,HelAnn,HelMel,HomSap,MusMus,PanTro,PapAnu,PonAbe,StrAga,download-genetic-maps}\n",
      "                 ...\n",
      "\n",
      "Command line interface for stdpopsim.\n",
      "\n",
      "positional arguments:\n",
      "  {AedAeg,AnaPla,AnoCar,AnoGam,ApiMel,AraTha,BosTau,CaeEle,CanFam,ChlRei,DroMel,DroSec,EscCol,GasAcu,HelAnn,HelMel,HomSap,MusMus,PanTro,PapAnu,PonAbe,StrAga,download-genetic-maps}\n",
      "    AedAeg              Run simulations for Aedes aegypti.\n",
      "    AnaPla              Run simulations for Anas platyrhynchos.\n",
      "    AnoCar              Run simulations for Anolis carolinensis.\n",
      "    AnoGam              Run simulations for Anopheles gambiae.\n",
      "    ApiMel              Run simulations for Apis mellifera.\n",
      "    AraTha              Run simulations for Arabidopsis thaliana.\n",
      "    BosTau              Run simulations for Bos taurus.\n",
      "    CaeEle              Run simulations for Caenorhabditis elegans.\n",
      "    CanFam              Run simulations for Canis familiaris.\n",
      "    ChlRei              Run simulations for Chlamydomonas reinhardtii.\n",
      "    DroMel              Run simulations for Drosophila melanogaster.\n",
      "    DroSec              Run simulations for Drosophila sechellia.\n",
      "    EscCol              Run simulations for Escherichia coli.\n",
      "    GasAcu              Run simulations for Gasterosteus aculeatus.\n",
      "    HelAnn              Run simulations for Helianthus annuus.\n",
      "    HelMel              Run simulations for Heliconius melpomene.\n",
      "    HomSap              Run simulations for Homo sapiens.\n",
      "    MusMus              Run simulations for Mus musculus.\n",
      "    PanTro              Run simulations for Pan troglodytes.\n",
      "    PapAnu              Run simulations for Papio anubis.\n",
      "    PonAbe              Run simulations for Pongo abelii.\n",
      "    StrAga              Run simulations for Streptococcus agalactiae.\n",
      "    download-genetic-maps\n",
      "                        Download genetic maps\n",
      "\n",
      "optional arguments:\n",
      "  -h, --help            show this help message and exit\n",
      "  -V, --version         show program's version number and exit\n",
      "  -v, --verbose         Increase logging verbosity (can use be used multiple\n",
      "                        times).\n",
      "  -q, --quiet           Do not write any non-essential messages\n",
      "  -c CACHE_DIR, --cache-dir CACHE_DIR\n",
      "                        Set the cache directory to the specified value. Note\n",
      "                        that this can also be set using the environment\n",
      "                        variable STDPOPSIM_CACHE. If both the environment\n",
      "                        variable and this option are set, the option takes\n",
      "                        precedence. Default:\n",
      "                        /Users/adk/Library/Caches/stdpopsim\n",
      "  -e {msprime,slim}, --engine {msprime,slim}\n",
      "                        Specify a simulation engine.\n",
      "\n",
      "msprime specific parameters:\n",
      "  --msprime-model {hudson,dtwf,smc,smc_prime}\n",
      "                        Specify the simulation model used by msprime. See\n",
      "                        msprime API documentation for details.\n",
      "  --msprime-change-model T MODEL\n",
      "                        Change to the specified simulation MODEL at generation\n",
      "                        T. This option may provided multiple times.\n",
      "\n",
      "SLiM specific parameters:\n",
      "  --slim-path PATH      Full path to `slim' executable.\n",
      "  --slim-script         Write script to stdout and exit without running SLiM.\n",
      "  --slim-scaling-factor Q\n",
      "                        Rescale model parameters by Q to speed up simulation.\n",
      "                        See SLiM manual: `5.5 Rescaling population sizes to\n",
      "                        improve simulation performance`. [default=1].\n",
      "  --slim-burn-in X      Length of the burn-in phase, in units of N generations\n",
      "                        [default=10].\n"
     ]
    }
   ],
   "source": [
    "%%bash\n",
    "stdpopsim --help"
   ]
  },
  {
   "cell_type": "markdown",
   "metadata": {},
   "source": [
    "`stdpopsim` uses a combination of [_positional arguments_](https://stdpopsim.readthedocs.io/en/stable/cli_arguments.html#Positional%20Arguments), which are required, and [_named arguments_](https://stdpopsim.readthedocs.io/en/stable/cli_arguments.html#Named%20Arguments), which are optional."
   ]
  },
  {
   "cell_type": "markdown",
   "metadata": {},
   "source": [
    "### Find your species and run stdpopsim with that species with the help option"
   ]
  },
  {
   "cell_type": "code",
   "execution_count": 21,
   "metadata": {},
   "outputs": [
    {
     "name": "stdout",
     "output_type": "stream",
     "text": [
      "usage: stdpopsim HomSap [-h] [--help-models [HELP_MODELS]] [-b BIBTEX_FILE]\n",
      "                        [--help-genetic-maps [HELP_GENETIC_MAPS]] [-D] [-g]\n",
      "                        [--help-dfes [HELP_DFES]] [-c] [-L LENGTH]\n",
      "                        [-i INCLUSION_MASK] [-e EXCLUSION_MASK]\n",
      "                        [-l LENGTH_MULTIPLIER] [--left LEFT] [--right RIGHT]\n",
      "                        [-s SEED] [--keep-mutation-ids-as-alleles] [-d]\n",
      "                        [--dfe] [--dfe-interval] [--dfe-bed-file]\n",
      "                        [--help-annotations [HELP_ANNOTATIONS]]\n",
      "                        [--dfe-annotation] [-o OUTPUT]\n",
      "                        samples [samples ...]\n",
      "\n",
      "Run simulations for Homo sapiens using up-to-date genome information,\n",
      "genetic maps and simulation models from the literature. NOTE: By\n",
      "default, the tskit '.trees' binary file is written to stdout,so you\n",
      "should either redirect this to a file or use the '--output' option to\n",
      "specify a filename.\n",
      "\n",
      "Default population parameters for Homo sapiens:\n",
      "Generation time: 30\n",
      "Population size: 10000\n",
      "Mutation rate: 1.29e-08\n",
      "Recombination rate: 1.253e-08\n",
      "\n",
      "positional arguments:\n",
      "  samples               The number of samples to draw from each population. At\n",
      "                        least two samples must be specified. The number of\n",
      "                        arguments that will be accepted depends on the\n",
      "                        simulation model that is specified: for a model that\n",
      "                        has n populations, we can specify the number of\n",
      "                        samples to draw from each of these populations.We do\n",
      "                        not need to provide sample numbers of each of the\n",
      "                        populations; those that are omitted are set to zero.\n",
      "\n",
      "optional arguments:\n",
      "  -h, --help            show this help message and exit\n",
      "  --help-models [HELP_MODELS]\n",
      "                        Print descriptions of simulation models and exit. If a\n",
      "                        model ID is provided as an argument show help for this\n",
      "                        model; otherwise show help for all available models\n",
      "  -b BIBTEX_FILE, --bibtex-file BIBTEX_FILE\n",
      "                        Write citations to a given bib file. This will\n",
      "                        overwrite the file.\n",
      "  --help-genetic-maps [HELP_GENETIC_MAPS]\n",
      "                        Print list of genetic maps and exit. If a genetic map\n",
      "                        ID is given as an argument, show help for this map.\n",
      "                        Otherwise show help for all available genetic maps\n",
      "  -D, --dry-run         Do not run actual simulation\n",
      "  -g , --genetic-map    Specify a particular genetic map. By default, a\n",
      "                        chromosome-specific uniform recombination rate is\n",
      "                        used. These default rates are listed in the catalog:\n",
      "                        <https://popsim-consortium.github.io/stdpopsim-\n",
      "                        docs/stable/catalog.html> Available maps:\n",
      "                        HapMapII_GRCh37, HapMapII_GRCh38,\n",
      "                        DeCodeSexAveraged_GRCh36, DeCodeSexAveraged_GRCh38,\n",
      "                        PyrhoACB_GRCh38, PyrhoASW_GRCh38, PyrhoBEB_GRCh38,\n",
      "                        PyrhoCDX_GRCh38, PyrhoCEU_GRCh38, PyrhoCHB_GRCh38,\n",
      "                        PyrhoCHS_GRCh38, PyrhoCLM_GRCh38, PyrhoESN_GRCh38,\n",
      "                        PyrhoFIN_GRCh38, PyrhoGBR_GRCh38, PyrhoGIH_GRCh38,\n",
      "                        PyrhoGWD_GRCh38, PyrhoIBS_GRCh38, PyrhoITU_GRCh38,\n",
      "                        PyrhoJPT_GRCh38, PyrhoKHV_GRCh38, PyrhoLWK_GRCh38,\n",
      "                        PyrhoMSL_GRCh38, PyrhoMXL_GRCh38, PyrhoPEL_GRCh38,\n",
      "                        PyrhoPJL_GRCh38, PyrhoPUR_GRCh38, PyrhoSTU_GRCh38,\n",
      "                        PyrhoTSI_GRCh38, PyrhoYRI_GRCh38.\n",
      "  --help-dfes [HELP_DFES]\n",
      "                        Print list of DFEs and exit. If a DFE ID is given as\n",
      "                        an argument, show help for this DFE. Otherwise show\n",
      "                        help for all available DFEs\n",
      "  -c , --chromosome     Simulate a specific chromosome. If no chromosome is\n",
      "                        given, simulate a generic contig of given length,\n",
      "                        specified using --length. Options: 1, 2, 3, 4, 5, 6,\n",
      "                        7, 8, 9, 10, 11, 12, 13, 14, 15, 16, 17, 18, 19, 20,\n",
      "                        21, 22, X, Y, MT. Default=None.\n",
      "  -L LENGTH, --length LENGTH\n",
      "                        Simulate a default contig of given length.\n",
      "  -i INCLUSION_MASK, --inclusion-mask INCLUSION_MASK\n",
      "                        Path to inclusion mask specified in bed format.\n",
      "  -e EXCLUSION_MASK, --exclusion-mask EXCLUSION_MASK\n",
      "                        Path to exclusion mask specified in bed format.\n",
      "  -l LENGTH_MULTIPLIER, --length-multiplier LENGTH_MULTIPLIER\n",
      "                        Simulate a sequence of length l times the named\n",
      "                        chromosome's length using the named chromosome's\n",
      "                        mutation and recombination rates.\n",
      "  --left LEFT           The leftmost coordinate (inclusive) of the contig on\n",
      "                        the named chromosome. Defaults to 0 (the beginning of\n",
      "                        the chromosome).\n",
      "  --right RIGHT         The rightmost coordinate (exclusive) of the contig on\n",
      "                        the named chromosome. Defaults to the length of the\n",
      "                        chromosome.\n",
      "  -s SEED, --seed SEED  The random seed to use for simulations. If not\n",
      "                        specified a high-quality random seed will be generated\n",
      "                        automatically. For msprime, seeds must be > 0 and <\n",
      "                        2^32.\n",
      "  --keep-mutation-ids-as-alleles\n",
      "                        If set, mutations in SLiM simulations will have\n",
      "                        alleles coded as numeric ids rather than random\n",
      "                        nucleotides.\n",
      "  -d , --demographic-model \n",
      "                        Specify a simulation model. If no model is specified,\n",
      "                        a single population constant size model is used.\n",
      "                        Available models:\n",
      "                        OutOfAfricaExtendedNeandertalAdmixturePulse_3I21,\n",
      "                        OutOfAfrica_3G09, OutOfAfrica_2T12, Africa_1T12,\n",
      "                        AmericanAdmixture_4B11,\n",
      "                        OutOfAfricaArchaicAdmixture_5R19, Zigzag_1S14,\n",
      "                        AncientEurasia_9K19, PapuansOutOfAfrica_10J19,\n",
      "                        AshkSub_7G19, OutOfAfrica_4J17, Africa_1B08,\n",
      "                        AncientEurope_4A21. Please see --help-models for\n",
      "                        details of these models.\n",
      "  --dfe                 Specify a Distribution of Fitness Effects (DFE) model.\n",
      "                        If no DFE is specified, all mutations are neutral.\n",
      "                        Available DFE models:Gamma_K17, Gamma_H17. Please see\n",
      "                        --help-dfes for details of these DFE models.\n",
      "  --dfe-interval        Specify the interval where selection (given a DFE) is\n",
      "                        simulated. Anything outside of the interval is\n",
      "                        simulated as neutral. If no interval is specified,\n",
      "                        selection is simulated across the entire contig. The\n",
      "                        interval is written as 'start,end' (separated by a\n",
      "                        comma, with no space, for instance: --dfe-interval\n",
      "                        1000,2000.\n",
      "  --dfe-bed-file        A bed file specifing the intervals where selection\n",
      "                        (given a DFE) is simulated. Non-overlapping intervals\n",
      "                        belonging to the same chromosome are required. If no\n",
      "                        interval is specified, selection is simulated across\n",
      "                        the entire contig. See also --dfe-interval and --dfe-\n",
      "                        annotation.\n",
      "  --help-annotations [HELP_ANNOTATIONS]\n",
      "                        Print list of annotations and exit. If a annotation ID\n",
      "                        is given as an argument, show help for this\n",
      "                        annotation. Otherwise show help for all available\n",
      "                        annotations\n",
      "  --dfe-annotation      Specify the intervals over which a given DFE acts\n",
      "                        using a genomic annotation track Available maps:\n",
      "                        ensembl_havana_104_exons, ensembl_havana_104_CDS.\n",
      "  -o OUTPUT, --output OUTPUT\n",
      "                        Where to write the output tree sequence file. Defaults\n",
      "                        to stdout if not specified\n"
     ]
    }
   ],
   "source": [
    "%%bash\n",
    "stdpopsim HomSap --help"
   ]
  },
  {
   "cell_type": "markdown",
   "metadata": {},
   "source": [
    "### Find your model and run stdpopsim with that model with the help option"
   ]
  },
  {
   "cell_type": "code",
   "execution_count": 18,
   "metadata": {},
   "outputs": [
    {
     "name": "stderr",
     "output_type": "stream",
     "text": [
      "\n",
      "All simulation models for Homo sapiens\n",
      "\n",
      "Africa_1B08: African-americans population\n",
      "     African-American two-epoch instantaneous growth model from Boyko\n",
      "    et al 2008, fit to the synonymous SFS for the 11 of 15 African\n",
      "    Americans showing the least European ancestry, using coalescent\n",
      "    simulations with recombination with the maximum likelihood method\n",
      "    of Williamson et al 2005; times were calibrated assuming 3e5\n",
      "    generations since human-chimp divergence and fitting the number of\n",
      "    synonymous human-chimp differences. Mutation and recombination\n",
      "    rates were assumed to be the same (1.8e-8).\n",
      "\n",
      "    Populations:\n",
      "        African_Americans: African-Americans from Boyko et al 2008\n",
      "\n",
      "Africa_1T12: African population\n",
      "     The model is a simplification of the two population Tennesen et\n",
      "    al. model with the European-American population removed so that we\n",
      "    are modeling the African population in isolation.\n",
      "\n",
      "    Populations:\n",
      "        AFR: African\n",
      "\n",
      "AmericanAdmixture_4B11: American admixture\n",
      "     Demographic model for American admixture, taken from Browning et\n",
      "    al. 2011. This model extends the Gravel et al. (2011) model of\n",
      "    African/European/Asian demographic history to simulate an admixed\n",
      "    population with admixture occurring 12 generations ago. The\n",
      "    admixed population had an initial size of 30,000 and grew at a\n",
      "    rate of 5% per generation, with 1/6 of the population of African\n",
      "    ancestry, 1/3 European, and 1/2 Asian. Note that this demographic\n",
      "    model was not inferred, and the mutation rate that Browning et al.\n",
      "    used for simulation is smaller than used for inferring the model,\n",
      "    so the mutation rate provided here is that from Gravel et al.\n",
      "\n",
      "    Populations:\n",
      "        AFR: Contemporary African population\n",
      "        EUR: Contemporary European population\n",
      "        ASIA: Contemporary Asian population\n",
      "        ADMIX: Modern admixed population\n",
      "\n",
      "AncientEurasia_9K19: Multi-population model of ancient Eurasia\n",
      "     This is the best-fitting model of a history of multiple ancient\n",
      "    and present-day human populations sampled across Eurasia over the\n",
      "    past 120,000 years. The fitting was performed using momi2 (Kamm et\n",
      "    al. 2019), which uses the multi-population site-frequency spectrum\n",
      "    as input data. The model includes a ghost admixture event (from\n",
      "    unsampled basal Eurasians into early European farmers), and two\n",
      "    admixture events where the source is approximately well-known\n",
      "    (from Neanderthals into Non-Africans and from Western European\n",
      "    hunter-gatherers into modern Sardinians. There are three present-\n",
      "    day populations: Sardinians, Han Chinese and African Mbuti.\n",
      "    Additionally, there are several ancient samples obtained from\n",
      "    fossils dated at different times in the past: the Altai\n",
      "    Neanderthal (Prufer et al. 2014), a Mesolithic hunter-gatherer\n",
      "    (Lazaridis et al. 2014), a Neolithic early European sample\n",
      "    (Lazaridis et al. 2014), and two Palaeolithic modern humans from\n",
      "    Siberia - MA1 (Raghavan et al. 2014) and  Ust'Ishim (Fu et al.\n",
      "    2014). All the ancient samples are represented by a single diploid\n",
      "    genome.\n",
      "\n",
      "    Populations:\n",
      "        Mbuti: Present-day African Mbuti\n",
      "        LBK: Early European farmer (EEF)\n",
      "        Sardinian: Present-day Sardinian\n",
      "        Loschbour: Western hunter-gatherer (WHG)\n",
      "        MA1: Upper Palaeolithic MAl'ta culture\n",
      "        Han: Present-day Han Chinese\n",
      "        UstIshim: early Palaeolithic Ust'-Ishim\n",
      "        Neanderthal: Altai Neanderthal from Siberia\n",
      "\n",
      "AncientEurope_4A21: Multi-population model of ancient Europe\n",
      "     Population structure that has existed over the last 45,000 years\n",
      "    in Europe, leading to modern Europeans. The model demonstrates the\n",
      "    divergence of a Basal European Lineages into four ancient\n",
      "    populations; Western, Eastern and Caucasus Hunter- Gatherers and\n",
      "    Anatolian Farmers. Migration of Anatolian farmers into Western\n",
      "    Europe and admixture with Western Hunter-Gatherers produces the\n",
      "    European Neolithic Farmers. In West Asia the admixture of Eastern\n",
      "    Hunter-Gatherers and Caucasus Hunter- Gatherers leads to the\n",
      "    formation of the Yamnaya Steppe population. The Yamnaya migrate\n",
      "    into Western Europe to admixture with the Neolithic farmers giving\n",
      "    rise to Bronze Age europeans. There is only an exponential growth\n",
      "    in population size from then to the Present-day. Samples are taken\n",
      "    at multiple point throughout history from each population.\n",
      "\n",
      "    Populations:\n",
      "        OOA: Basal/OOA\n",
      "        NE: Northern European\n",
      "        WA: West Asian\n",
      "        CHG: Caucasus Hunter-gathers\n",
      "        ANA: Anatolian\n",
      "        WHG: Western Hunter-gathers\n",
      "        EHG: Eastern Hunter-gathers\n",
      "        YAM: Yamnaya\n",
      "        NEO: Neolithic\n",
      "        Bronze: Bronze Age\n",
      "\n",
      "AshkSub_7G19: Ashkenazi Jewish with substructure and European admixture\n",
      "     This was the best fit model of Ashkenazi Jewish demographic\n",
      "    history from Gladstein and Hammer 2019, shown in Figure 1, labeled\n",
      "    \"Substructure Model\". Model choice and parameter estimation were\n",
      "    performed with Approximate Bayesian Computation. Parameter values\n",
      "    are based on the mode from ABC found in Table S3 of Gladstein and\n",
      "    Hammer 2019. In this model, the ancestors of Europeans and Middle\n",
      "    Eastern populations diverge. Non-Ashkenazi Jewish populations then\n",
      "    diverge from the Middle Eastern population. The Ashkenazi Jews\n",
      "    then diverge from the other Jewish populations and experience a\n",
      "    substantial reduction in population size and a single pulse of\n",
      "    gene flow from Europeans (corresponding to their arrival in\n",
      "    Europe). After the gene flow from Europeans to the Ashkenazi Jews,\n",
      "    the Ashkenazi Jews split into two groups, the Western and Eastern.\n",
      "    Finally, the Western Ashkenazi Jews experience moderate\n",
      "    instantaneous population size increase, and the Eastern experience\n",
      "    a massive population size increase. In addition to the demographic\n",
      "    model Gladstein and Hammer 2019 also incorporated an SNP array\n",
      "    ascertainment scheme into the simulation. This demographic model\n",
      "    does not include the SNP array ascertainment scheme. It should be\n",
      "    noted that Gladstein and Hammer 2019 simulated with a mutation\n",
      "    rate of 2.5e-8.\n",
      "\n",
      "    Populations:\n",
      "        YRI: 1000 Genomes YRI (Yoruba)\n",
      "        CHB: 1000 Genomes CHB (Han Chinese in Beijing, China)\n",
      "        CEU: 1000 Genomes CEU (Utah Residents (CEPH) with Northern and Western European Ancestry)\n",
      "        ME: Middle Eastern\n",
      "        J: non-Ashkenazi Jewish\n",
      "        WAJ: Western Ashkenazi Jewish\n",
      "        EAJ: Eastern Ashkenazi Jewish\n",
      "\n",
      "OutOfAfricaArchaicAdmixture_5R19: Three population out-of-Africa with archaic admixture\n",
      "     The three population out-of-African model popularized by\n",
      "    Gutenkunst et al. (2009) and augmented by archaic contributions to\n",
      "    both Eurasian and African populations. Two archaic populations\n",
      "    split early in human history, before the African expansion, and\n",
      "    contribute to Eurasian populations (putative Neanderthal branch)\n",
      "    and to the African branch (a deep diverging branch within Africa).\n",
      "    Admixture is modeled as symmetric migration between the archaic\n",
      "    and modern human branches, with contribution ending at a given\n",
      "    time in the past.\n",
      "\n",
      "    Populations:\n",
      "        YRI: 1000 Genomes YRI (Yoruba)\n",
      "        CEU: 1000 Genomes CEU (Utah Residents (CEPH) with Northern and Western European Ancestry)\n",
      "        CHB: 1000 Genomes CHB (Han Chinese in Beijing, China)\n",
      "\n",
      "OutOfAfricaExtendedNeandertalAdmixturePulse_3I21: Three population out-of-Africa with an extended pulse of Neandertal admixture into Europeans\n",
      "     Demographic model of an extended admixture pulse from Neandertals\n",
      "    into Europeans taken from Iasi et al. (2021), specifically the\n",
      "    simple model of Supplementary Figure 1a with a gamma-shaped pulse.\n",
      "    This model simulates 3 populations: Africans, Europeans and\n",
      "    Neandertals with an Out-of-Africa event. The population sizes are\n",
      "    constant with an unidirectional admixture from Neandertals into\n",
      "    Europeans after the split between Europeans and Africans. The\n",
      "    admixture event is modelled as an 800 generation (20 ky) long\n",
      "    extended admixture pulse.\n",
      "\n",
      "    Populations:\n",
      "        YRI: 1000 Genomes YRI (Yoruba)\n",
      "        CEU: 1000 Genomes CEU (Utah Residents (CEPH) with Northern and Western European Ancestry)\n",
      "        NEA: Neandertals\n",
      "\n",
      "OutOfAfrica_2T12: Two population out-of-Africa\n",
      "     The model is derived from the Tennessen et al. analysis of the\n",
      "    jSFS from European Americans and African Americans. It describes\n",
      "    the ancestral human population in Africa, the out of Africa event,\n",
      "    and two distinct periods of subsequent European population growth\n",
      "    over the past 23kya. Model parameters are taken from Fig. S5 in Fu\n",
      "    et al.\n",
      "\n",
      "    Populations:\n",
      "        AFR: African Americans\n",
      "        EUR: European Americans\n",
      "\n",
      "OutOfAfrica_3G09: Three population out-of-Africa\n",
      "     The three population Out-of-Africa model from Gutenkunst et al.\n",
      "    2009. It describes the ancestral human population in Africa, the\n",
      "    out of Africa event, and the subsequent European-Asian population\n",
      "    split. Model parameters are the maximum likelihood values of the\n",
      "    various parameters given in Table 1 of Gutenkunst et al.\n",
      "\n",
      "    Populations:\n",
      "        YRI: 1000 Genomes YRI (Yoruba)\n",
      "        CEU: 1000 Genomes CEU (Utah Residents (CEPH) with Northern and Western European Ancestry)\n",
      "        CHB: 1000 Genomes CHB (Han Chinese in Beijing, China)\n",
      "\n",
      "OutOfAfrica_4J17: 4 population out of Africa\n",
      "     Demographic model for a four population out-of-Africa history,\n",
      "    taken from Jouganous et al. (2017). Parameter values were taken\n",
      "    from table 4 in the main text. This model was fit based on joint\n",
      "    allele frequecy spectrum (AFS) data from 1000 Genomes exomes from\n",
      "    the YRI, CEU, CHB, and JPT poulation samples. The demography\n",
      "    follows the previous three-populations out-of-Africa models with\n",
      "    an additional population split in Asia leading to the Japanese\n",
      "    (JPT) population. Parameter values were estimated with the program\n",
      "    Moments assuming a mutation rate of 1.44e-8 and a generation time\n",
      "    of 29 years.\n",
      "\n",
      "    Populations:\n",
      "        YRI: 1000 Genomes YRI (Yoruba)\n",
      "        CEU: 1000 Genomes CEU (Utah Residents (CEPH) with Northern and Western European Ancestry)\n",
      "        CHB: 1000 Genomes CHB (Han Chinese in Beijing, China)\n",
      "        JPT: 1000 Genomes JPT (Japanese in Tokyo, Japan)\n",
      "\n",
      "PapuansOutOfAfrica_10J19: Out-of-Africa with archaic admixture into Papuans\n",
      "     A ten population model of out-of-Africa, including two pulses of\n",
      "    Denisovan admixture into Papuans, and several pulses of Neandertal\n",
      "    admixture into non-Africans. Most parameters are from Jacobs et\n",
      "    al. (2019), Table S5 and Figure S5. This model is an extension of\n",
      "    one from Malaspinas et al. (2016), thus some parameters are\n",
      "    inherited from there.\n",
      "\n",
      "    Populations:\n",
      "        YRI: 1000 Genomes YRI (Yoruba)\n",
      "        CEU: 1000 Genomes CEU (Utah Residents (CEPH) with Northern and Western European Ancestry)\n",
      "        CHB: 1000 Genomes CHB (Han Chinese in Beijing, China)\n",
      "        Papuan: Papuans from Indonesia and New Guinea\n",
      "        DenA: Altai Denisovan (sampling) lineage\n",
      "        NeaA: Altai Neandertal (sampling) lineage\n",
      "\n",
      "Zigzag_1S14: Periodic growth and decline.\n",
      "     A validation model used by Schiffels and Durbin (2014) and\n",
      "    Terhorst and Terhorst, Kamm, and Song (2017) with periods of\n",
      "    exponential growth and decline in a single population.\n",
      "\n",
      "    Populations:\n",
      "        generic: Generic expanding and contracting population\n",
      "\n",
      "\n"
     ]
    }
   ],
   "source": [
    "%%bash\n",
    "stdpopsim HomSap \\\n",
    "        --help-models"
   ]
  },
  {
   "cell_type": "markdown",
   "metadata": {},
   "source": [
    "## Run a simulation\n",
    "- pick the number of samples for each population\n",
    "- pick a chromosome\n",
    "- do you want a fraction of the chromosome?\n",
    "- decide on an output file"
   ]
  },
  {
   "cell_type": "markdown",
   "metadata": {},
   "source": [
    "Let's do a dry run first by using `-D`."
   ]
  },
  {
   "cell_type": "code",
   "execution_count": 19,
   "metadata": {},
   "outputs": [
    {
     "name": "stderr",
     "output_type": "stream",
     "text": [
      "WARNING: The use of `DemographicModel.get_samples` (Python API) and positional sample counts (CLI) is deprecated. Instead, supply a {population_name:num_samples} dict to `Engine.simulate(samples=...)` (Python API); or use the syntax `stdpopsim SpeciesName population_name:num_samples` (CLI).\n",
      "Simulation information:\n",
      "    Engine: msprime (1.2.0)\n",
      "    Model id: OutOfAfrica_3G09\n",
      "    Model description: Three population out-of-Africa\n",
      "    Population: number_samples (sampling_time_generations):\n",
      "        YRI: 10 (0)\n",
      "        CEU: 10 (0)\n",
      "        CHB: 10 (0)\n",
      "Contig Description:\n",
      "    Contig origin: chr22:0-5081847\n",
      "    Contig length: 5081847.0\n",
      "    Contig ploidy: 2\n",
      "    Mean recombination rate: 2.1057233894035443e-08\n",
      "    Mean mutation rate: 2.35e-08\n",
      "    Genetic map: None\n",
      "\n",
      "If you use this simulation in published work, please cite:\n",
      "[stdpopsim]\n",
      "Adrion et al., 2020: https://doi.org/10.7554/eLife.54967\n",
      "[simulation engine]\n",
      "Kelleher et al., 2016: https://doi.org/10.1371/journal.pcbi.1004842\n",
      "[generation time]\n",
      "Tremblay and Vézina, 2000: https://doi.org/10.1086/302770\n",
      "[population size]\n",
      "Takahata, 1993: https://doi.org/10.1093/oxfordjournals.molbev.a039995\n",
      "[genome assembly]\n",
      "International Human Genome Sequencing Consortium, 2001: http://dx.doi.org/10.1038/35057062\n",
      "[recombination rate]\n",
      "The International HapMap Consortium, 2007: https://doi.org/10.1038/nature06258\n",
      "[demographic model]\n",
      "Gutenkunst et al., 2009: https://doi.org/10.1371/journal.pgen.1000695\n"
     ]
    }
   ],
   "source": [
    "%%bash\n",
    "stdpopsim HomSap 10 10 10 \\\n",
    "    --demographic-model OutOfAfrica_3G09 \\\n",
    "    --chromosome chr22 \\\n",
    "    --length-multiplier 0.1 \\\n",
    "    --output OutOfAfrica_3G09_CLI.ts \\\n",
    "    -D "
   ]
  },
  {
   "cell_type": "markdown",
   "metadata": {},
   "source": [
    "Does that look right? If so, let's do the simulation!"
   ]
  },
  {
   "cell_type": "code",
   "execution_count": 20,
   "metadata": {},
   "outputs": [
    {
     "name": "stderr",
     "output_type": "stream",
     "text": [
      "WARNING: The use of `DemographicModel.get_samples` (Python API) and positional sample counts (CLI) is deprecated. Instead, supply a {population_name:num_samples} dict to `Engine.simulate(samples=...)` (Python API); or use the syntax `stdpopsim SpeciesName population_name:num_samples` (CLI).\n",
      "Simulation information:\n",
      "    Engine: msprime (1.2.0)\n",
      "    Model id: OutOfAfrica_3G09\n",
      "    Model description: Three population out-of-Africa\n",
      "    Population: number_samples (sampling_time_generations):\n",
      "        YRI: 10 (0)\n",
      "        CEU: 10 (0)\n",
      "        CHB: 10 (0)\n",
      "Contig Description:\n",
      "    Contig origin: chr22:0-5081847\n",
      "    Contig length: 5081847.0\n",
      "    Contig ploidy: 2\n",
      "    Mean recombination rate: 2.1057233894035443e-08\n",
      "    Mean mutation rate: 2.35e-08\n",
      "    Genetic map: None\n",
      "\n",
      "If you use this simulation in published work, please cite:\n",
      "[stdpopsim]\n",
      "Adrion et al., 2020: https://doi.org/10.7554/eLife.54967\n",
      "[simulation engine]\n",
      "Kelleher et al., 2016: https://doi.org/10.1371/journal.pcbi.1004842\n",
      "[generation time]\n",
      "Tremblay and Vézina, 2000: https://doi.org/10.1086/302770\n",
      "[population size]\n",
      "Takahata, 1993: https://doi.org/10.1093/oxfordjournals.molbev.a039995\n",
      "[genome assembly]\n",
      "International Human Genome Sequencing Consortium, 2001: http://dx.doi.org/10.1038/35057062\n",
      "[recombination rate]\n",
      "The International HapMap Consortium, 2007: https://doi.org/10.1038/nature06258\n",
      "[demographic model]\n",
      "Gutenkunst et al., 2009: https://doi.org/10.1371/journal.pgen.1000695\n"
     ]
    }
   ],
   "source": [
    "%%bash\n",
    "stdpopsim HomSap 10 10 10 \\\n",
    "         --demographic-model OutOfAfrica_3G09 \\\n",
    "         --chromosome chr22 \\\n",
    "         --length-multiplier 0.1 \\\n",
    "         --output OutOfAfrica_3G09_CLI.ts"
   ]
  },
  {
   "cell_type": "code",
   "execution_count": 22,
   "metadata": {},
   "outputs": [],
   "source": [
    "%%bash\n",
    "tskit vcf OutOfAfrica_3G09_CLI.ts > OutOfAfrica_3G09_CLI.vcf"
   ]
  },
  {
   "cell_type": "markdown",
   "metadata": {},
   "source": [
    "Let's take a look at our vcf."
   ]
  },
  {
   "cell_type": "code",
   "execution_count": 23,
   "metadata": {},
   "outputs": [
    {
     "name": "stdout",
     "output_type": "stream",
     "text": [
      "Intro_stdpopsim.ipynb\n",
      "Intro_stdpopsim_fillme.ipynb\n",
      "OutOfAfrica_3G09_API.trees\n",
      "OutOfAfrica_3G09_API.ts\n",
      "OutOfAfrica_3G09_API.vcf\n",
      "OutOfAfrica_3G09_CLI.ts\n",
      "OutOfAfrica_3G09_CLI.vcf\n",
      "README.md\n",
      "images\n"
     ]
    }
   ],
   "source": [
    "%%bash\n",
    "ls"
   ]
  },
  {
   "cell_type": "code",
   "execution_count": 24,
   "metadata": {},
   "outputs": [
    {
     "name": "stdout",
     "output_type": "stream",
     "text": [
      "##fileformat=VCFv4.2\n",
      "##source=tskit 0.5.4\n",
      "##FILTER=<ID=PASS,Description=\"All filters passed\">\n",
      "##contig=<ID=1,length=5081847>\n",
      "##FORMAT=<ID=GT,Number=1,Type=String,Description=\"Genotype\">\n",
      "#CHROM\tPOS\tID\tREF\tALT\tQUAL\tFILTER\tINFO\tFORMAT\ttsk_0\ttsk_1\ttsk_2\ttsk_3\ttsk_4\ttsk_5\ttsk_6\ttsk_7\ttsk_8\ttsk_9\ttsk_10\ttsk_11\ttsk_12\ttsk_13\ttsk_14\ttsk_15\ttsk_16\ttsk_17\ttsk_18\ttsk_19\ttsk_20\ttsk_21\ttsk_22\ttsk_23\ttsk_24\ttsk_25\ttsk_26\ttsk_27\ttsk_28\ttsk_29\n",
      "1\t351\t0\tA\tG\t.\tPASS\t.\tGT\t0\t0\t0\t0\t0\t1\t0\t0\t0\t0\t0\t0\t0\t0\t0\t0\t0\t0\t0\t0\t0\t0\t0\t0\t0\t0\t0\t0\t0\t0\n",
      "1\t3186\t1\tC\tT\t.\tPASS\t.\tGT\t0\t0\t0\t0\t0\t0\t0\t0\t0\t0\t0\t0\t0\t0\t0\t0\t0\t0\t0\t0\t0\t0\t0\t0\t0\t0\t0\t0\t0\t1\n",
      "1\t3654\t2\tG\tC\t.\tPASS\t.\tGT\t1\t0\t1\t1\t1\t1\t1\t1\t1\t1\t1\t1\t1\t1\t1\t1\t1\t1\t1\t1\t1\t1\t1\t1\t1\t1\t1\t1\t1\t1\n",
      "1\t3709\t3\tG\tA\t.\tPASS\t.\tGT\t0\t1\t0\t0\t0\t0\t0\t0\t0\t0\t0\t0\t0\t0\t0\t0\t0\t0\t0\t0\t0\t0\t0\t0\t0\t0\t0\t0\t0\t0\n"
     ]
    }
   ],
   "source": [
    "%%bash\n",
    "head OutOfAfrica_3G09_CLI.vcf"
   ]
  },
  {
   "cell_type": "markdown",
   "metadata": {},
   "source": [
    "### _Try to simulate the Arabidopsis South Middle Atlas piecewise constant size model!_\n",
    "\n",
    "Bonus: from the `--help` output, can you see how you might use one of the published genetic maps in this simulation? (perhaps the *SalomeAveraged_TAIR7* map?)"
   ]
  },
  {
   "cell_type": "code",
   "execution_count": null,
   "metadata": {},
   "outputs": [],
   "source": [
    "%%bash\n",
    "stdpopsim #fill me!"
   ]
  },
  {
   "cell_type": "markdown",
   "metadata": {},
   "source": [
    "### Questions?"
   ]
  },
  {
   "cell_type": "markdown",
   "metadata": {},
   "source": [
    "-------------\n",
    "## 5. Example analysis\n",
    "Let's suppose we wanted to check if a published model is a good approximation of our real data. To do this, we'll calculate a few population genetics statistics and see if the real data overlap our simulated data. (For this exercise we will assume some value for the stats from the real data).\n"
   ]
  },
  {
   "cell_type": "markdown",
   "metadata": {},
   "source": [
    "### Our pretend real data\n",
    "Let's say we have samples from three human populations, and they have a mean genetic diversity of: 0.00045, 0.00029, 0.00027."
   ]
  },
  {
   "cell_type": "code",
   "execution_count": 9,
   "metadata": {},
   "outputs": [],
   "source": [
    "piA = 0.00045\n",
    "piB = 0.00029\n",
    "piC = 0.00027"
   ]
  },
  {
   "cell_type": "markdown",
   "metadata": {},
   "source": [
    "### Simulate a model to compare to real data and calculate stats\n",
    "\n",
    "We'll simulate the human Three population out-of-Africa _n_ times.  \n",
    "\n",
    "_Find this model in the catalog._  \n",
    "_How many populations are there?_  \n",
    "_How many samples do we want to simulate?_  \n",
    "_What chromosome do we want to simulate?_  \n",
    "_Do we want to reduce the chromosome size?_"
   ]
  },
  {
   "cell_type": "markdown",
   "metadata": {},
   "source": [
    "#### Set up the simulation"
   ]
  },
  {
   "cell_type": "code",
   "execution_count": 3,
   "metadata": {},
   "outputs": [],
   "source": [
    "import stdpopsim\n",
    "species = stdpopsim.get_species(\"HomSap\")\n",
    "model = species.get_demographic_model('OutOfAfrica_3G09')\n",
    "samples = {\"YRI\": 10, \"CHB\": 10, \"CEU\": 10}\n",
    "engine = stdpopsim.get_engine('msprime')\n",
    "contig = species.get_contig(\"chr22\", length_multiplier=0.1)"
   ]
  },
  {
   "cell_type": "markdown",
   "metadata": {},
   "source": [
    "#### Simulation and calculate the stats in a for loop"
   ]
  },
  {
   "cell_type": "markdown",
   "metadata": {},
   "source": [
    "Make a list of sample chromosomes (nodes) from each population"
   ]
  },
  {
   "cell_type": "code",
   "execution_count": 4,
   "metadata": {},
   "outputs": [],
   "source": [
    "def make_sample_list(ts):\n",
    "    sample_list = []\n",
    "    for pop in range(0, ts.num_populations):\n",
    "        sample_list.append(ts.samples(pop).tolist())\n",
    "    return sample_list"
   ]
  },
  {
   "cell_type": "markdown",
   "metadata": {},
   "source": [
    "Run the simulations and calculate the summary statistics"
   ]
  },
  {
   "cell_type": "code",
   "execution_count": 5,
   "metadata": {},
   "outputs": [
    {
     "name": "stderr",
     "output_type": "stream",
     "text": [
      "/Users/adk/github/stdpopsim/stdpopsim/engines.py:120: UserWarning: The demographic model has mutation rate 2.35e-08, but this simulation used the contig's mutation rate 1.29e-08. Diversity levels may be different than expected for this species. For details see documentation at https://popsim-consortium.github.io/stdpopsim-docs/stable/tutorial.html\n",
      "  warnings.warn(\n",
      "100% |########################################################################|\r"
     ]
    },
    {
     "name": "stdout",
     "output_type": "stream",
     "text": [
      "Done simulating 50 replicates!\n",
      "CPU times: user 32.4 s, sys: 733 ms, total: 33.1 s\n",
      "Wall time: 33.7 s\n"
     ]
    },
    {
     "name": "stderr",
     "output_type": "stream",
     "text": [
      "\n"
     ]
    }
   ],
   "source": [
    "%%time\n",
    "from progressbar import ProgressBar #This is just to get a progress bar\n",
    "pbar = ProgressBar() #This is just to get a progress bar\n",
    "\n",
    "n = 50\n",
    "pi_list = []\n",
    "for i in pbar(range(n)):\n",
    "    ts = engine.simulate(model, contig, samples)\n",
    "    sample_list = make_sample_list(ts)\n",
    "    pi_list.append(ts.diversity(sample_sets=sample_list))\n",
    "print('Done simulating {} replicates!'.format(n))"
   ]
  },
  {
   "cell_type": "markdown",
   "metadata": {},
   "source": [
    "### Plot stats from simulated and \"real\" data"
   ]
  },
  {
   "cell_type": "markdown",
   "metadata": {},
   "source": [
    "Convert simulated stats to a dataframe (only dataframes are easy to work with), then lets look at the first couple of lines using `head()`"
   ]
  },
  {
   "cell_type": "code",
   "execution_count": 25,
   "metadata": {},
   "outputs": [
    {
     "data": {
      "text/html": [
       "<div>\n",
       "<style scoped>\n",
       "    .dataframe tbody tr th:only-of-type {\n",
       "        vertical-align: middle;\n",
       "    }\n",
       "\n",
       "    .dataframe tbody tr th {\n",
       "        vertical-align: top;\n",
       "    }\n",
       "\n",
       "    .dataframe thead th {\n",
       "        text-align: right;\n",
       "    }\n",
       "</style>\n",
       "<table border=\"1\" class=\"dataframe\">\n",
       "  <thead>\n",
       "    <tr style=\"text-align: right;\">\n",
       "      <th></th>\n",
       "      <th>YRI</th>\n",
       "      <th>CEU</th>\n",
       "      <th>CHB</th>\n",
       "    </tr>\n",
       "  </thead>\n",
       "  <tbody>\n",
       "    <tr>\n",
       "      <th>0</th>\n",
       "      <td>0.000445</td>\n",
       "      <td>0.000327</td>\n",
       "      <td>0.000296</td>\n",
       "    </tr>\n",
       "    <tr>\n",
       "      <th>1</th>\n",
       "      <td>0.000433</td>\n",
       "      <td>0.000301</td>\n",
       "      <td>0.000296</td>\n",
       "    </tr>\n",
       "    <tr>\n",
       "      <th>2</th>\n",
       "      <td>0.000451</td>\n",
       "      <td>0.000315</td>\n",
       "      <td>0.000313</td>\n",
       "    </tr>\n",
       "    <tr>\n",
       "      <th>3</th>\n",
       "      <td>0.000439</td>\n",
       "      <td>0.000290</td>\n",
       "      <td>0.000288</td>\n",
       "    </tr>\n",
       "    <tr>\n",
       "      <th>4</th>\n",
       "      <td>0.000446</td>\n",
       "      <td>0.000317</td>\n",
       "      <td>0.000309</td>\n",
       "    </tr>\n",
       "  </tbody>\n",
       "</table>\n",
       "</div>"
      ],
      "text/plain": [
       "        YRI       CEU       CHB\n",
       "0  0.000445  0.000327  0.000296\n",
       "1  0.000433  0.000301  0.000296\n",
       "2  0.000451  0.000315  0.000313\n",
       "3  0.000439  0.000290  0.000288\n",
       "4  0.000446  0.000317  0.000309"
      ]
     },
     "execution_count": 25,
     "metadata": {},
     "output_type": "execute_result"
    }
   ],
   "source": [
    "import pandas as pd\n",
    "pi_df = pd.DataFrame(\n",
    "    data=pi_list, columns=[pop.name for pop in model.populations])\n",
    "pi_df.head()"
   ]
  },
  {
   "cell_type": "code",
   "execution_count": 26,
   "metadata": {},
   "outputs": [],
   "source": [
    "pi_df_melted = pd.melt(pi_df, var_name='Pops', value_name='Pi')"
   ]
  },
  {
   "cell_type": "markdown",
   "metadata": {},
   "source": [
    "## Plot data"
   ]
  },
  {
   "cell_type": "code",
   "execution_count": 29,
   "metadata": {},
   "outputs": [
    {
     "data": {
      "text/plain": [
       "(array([0.00025 , 0.000275, 0.0003  , 0.000325, 0.00035 , 0.000375,\n",
       "        0.0004  , 0.000425, 0.00045 , 0.000475, 0.0005  ]),\n",
       " [Text(0, 0, ''),\n",
       "  Text(0, 0, ''),\n",
       "  Text(0, 0, ''),\n",
       "  Text(0, 0, ''),\n",
       "  Text(0, 0, ''),\n",
       "  Text(0, 0, ''),\n",
       "  Text(0, 0, ''),\n",
       "  Text(0, 0, ''),\n",
       "  Text(0, 0, ''),\n",
       "  Text(0, 0, ''),\n",
       "  Text(0, 0, '')])"
      ]
     },
     "execution_count": 29,
     "metadata": {},
     "output_type": "execute_result"
    },
    {
     "data": {
      "image/png": "[encoded data removed]",
      "text/plain": [
       "<Figure size 432x288 with 1 Axes>"
      ]
     },
     "metadata": {
      "needs_background": "light"
     },
     "output_type": "display_data"
    }
   ],
   "source": [
    "import seaborn as sns\n",
    "import matplotlib.pyplot as plt\n",
    "ax = sns.histplot(data=pi_df_melted, x=\"Pi\", hue=\"Pops\", bins=30)\n",
    "ax.axvline(x=piA, color='blue')\n",
    "ax.axvline(x=piB, color='orange')\n",
    "ax.axvline(x=piC, color='green')\n",
    "plt.xticks(rotation=45)"
   ]
  },
  {
   "cell_type": "markdown",
   "metadata": {},
   "source": [
    "## A PCA example using scikit-allel\n",
    "Quick look at using stdpopsim together with scikit-allel to examine PCA of genetic variation from simulations.\n",
    "\n",
    "First we set the model:"
   ]
  },
  {
   "cell_type": "code",
   "execution_count": 11,
   "metadata": {},
   "outputs": [],
   "source": [
    "import allel\n",
    "import stdpopsim\n",
    "\n",
    "species = stdpopsim.get_species(\"HomSap\")\n",
    "model = species.get_demographic_model('OutOfAfrica_3G09')\n",
    "samples = {\"YRI\": 50, \"CHB\": 50, \"CEU\": 50}\n",
    "engine = stdpopsim.get_engine('msprime')\n",
    "contig = species.get_contig(\"chr22\", length_multiplier=0.1)"
   ]
  },
  {
   "cell_type": "markdown",
   "metadata": {},
   "source": [
    "next we will simulate and use tools from scikit-allel to go from tree sequences to genotypes. we'll output the first few rows of the genotype array produced by allel"
   ]
  },
  {
   "cell_type": "code",
   "execution_count": 30,
   "metadata": {},
   "outputs": [
    {
     "name": "stderr",
     "output_type": "stream",
     "text": [
      "/Users/adk/github/stdpopsim/stdpopsim/engines.py:120: UserWarning: The demographic model has mutation rate 2.35e-08, but this simulation used the contig's mutation rate 1.29e-08. Diversity levels may be different than expected for this species. For details see documentation at https://popsim-consortium.github.io/stdpopsim-docs/stable/tutorial.html\n",
      "  warnings.warn(\n"
     ]
    },
    {
     "ename": "TypeError",
     "evalue": "Cannot convert to a rectangular array.",
     "output_type": "error",
     "traceback": [
      "\u001b[0;31m---------------------------------------------------------------------------\u001b[0m",
      "\u001b[0;31mTypeError\u001b[0m                                 Traceback (most recent call last)",
      "File \u001b[0;32m~/miniconda3/envs/stdpopsim/lib/python3.9/site-packages/tskit/util.py:107\u001b[0m, in \u001b[0;36msafe_np_int_cast\u001b[0;34m(int_array, dtype, copy)\u001b[0m\n\u001b[1;32m    106\u001b[0m \u001b[39mtry\u001b[39;00m:\n\u001b[0;32m--> 107\u001b[0m     \u001b[39mreturn\u001b[39;00m int_array\u001b[39m.\u001b[39;49mastype(dtype, casting\u001b[39m=\u001b[39;49m\u001b[39m\"\u001b[39;49m\u001b[39msafe\u001b[39;49m\u001b[39m\"\u001b[39;49m, copy\u001b[39m=\u001b[39;49mcopy)\n\u001b[1;32m    108\u001b[0m \u001b[39mexcept\u001b[39;00m \u001b[39mTypeError\u001b[39;00m:\n",
      "\u001b[0;31mTypeError\u001b[0m: Cannot cast scalar from dtype('O') to dtype('int32') according to the rule 'safe'",
      "\nDuring handling of the above exception, another exception occurred:\n",
      "\u001b[0;31mTypeError\u001b[0m                                 Traceback (most recent call last)",
      "\u001b[1;32m/Users/adk/github/workshops/intro_stdpopsim/Intro_stdpopsim.ipynb Cell 91\u001b[0m in \u001b[0;36m<module>\u001b[0;34m\u001b[0m\n\u001b[1;32m      <a href='vscode-notebook-cell:/Users/adk/github/workshops/intro_stdpopsim/Intro_stdpopsim.ipynb#Y156sZmlsZQ%3D%3D?line=0'>1</a>\u001b[0m ts \u001b[39m=\u001b[39m engine\u001b[39m.\u001b[39msimulate(model, contig, samples)\n\u001b[0;32m----> <a href='vscode-notebook-cell:/Users/adk/github/workshops/intro_stdpopsim/Intro_stdpopsim.ipynb#Y156sZmlsZQ%3D%3D?line=1'>2</a>\u001b[0m haps \u001b[39m=\u001b[39m allel\u001b[39m.\u001b[39mHaplotypeArray(ts\u001b[39m.\u001b[39;49mgenotype_matrix(samples\u001b[39m=\u001b[39;49msamples))\n\u001b[1;32m      <a href='vscode-notebook-cell:/Users/adk/github/workshops/intro_stdpopsim/Intro_stdpopsim.ipynb#Y156sZmlsZQ%3D%3D?line=2'>3</a>\u001b[0m gns \u001b[39m=\u001b[39m haps\u001b[39m.\u001b[39mto_genotypes(ploidy\u001b[39m=\u001b[39m\u001b[39m2\u001b[39m)\n\u001b[1;32m      <a href='vscode-notebook-cell:/Users/adk/github/workshops/intro_stdpopsim/Intro_stdpopsim.ipynb#Y156sZmlsZQ%3D%3D?line=3'>4</a>\u001b[0m gns\n",
      "File \u001b[0;32m~/miniconda3/envs/stdpopsim/lib/python3.9/site-packages/tskit/trees.py:5415\u001b[0m, in \u001b[0;36mTreeSequence.genotype_matrix\u001b[0;34m(self, samples, isolated_as_missing, alleles, impute_missing_data)\u001b[0m\n\u001b[1;32m   5412\u001b[0m \u001b[39mif\u001b[39;00m isolated_as_missing \u001b[39mis\u001b[39;00m \u001b[39mNone\u001b[39;00m:\n\u001b[1;32m   5413\u001b[0m     isolated_as_missing \u001b[39m=\u001b[39m \u001b[39mnot\u001b[39;00m impute_missing_data\n\u001b[0;32m-> 5415\u001b[0m variant \u001b[39m=\u001b[39m tskit\u001b[39m.\u001b[39;49mVariant(\n\u001b[1;32m   5416\u001b[0m     \u001b[39mself\u001b[39;49m,\n\u001b[1;32m   5417\u001b[0m     samples\u001b[39m=\u001b[39;49msamples,\n\u001b[1;32m   5418\u001b[0m     isolated_as_missing\u001b[39m=\u001b[39;49misolated_as_missing,\n\u001b[1;32m   5419\u001b[0m     alleles\u001b[39m=\u001b[39;49malleles,\n\u001b[1;32m   5420\u001b[0m )\n\u001b[1;32m   5422\u001b[0m num_samples \u001b[39m=\u001b[39m \u001b[39mself\u001b[39m\u001b[39m.\u001b[39mnum_samples \u001b[39mif\u001b[39;00m samples \u001b[39mis\u001b[39;00m \u001b[39mNone\u001b[39;00m \u001b[39melse\u001b[39;00m \u001b[39mlen\u001b[39m(samples)\n\u001b[1;32m   5423\u001b[0m ret \u001b[39m=\u001b[39m np\u001b[39m.\u001b[39mzeros(shape\u001b[39m=\u001b[39m(\u001b[39mself\u001b[39m\u001b[39m.\u001b[39mnum_sites, num_samples), dtype\u001b[39m=\u001b[39mnp\u001b[39m.\u001b[39mint32)\n",
      "File \u001b[0;32m~/miniconda3/envs/stdpopsim/lib/python3.9/site-packages/tskit/genotypes.py:120\u001b[0m, in \u001b[0;36mVariant.__init__\u001b[0;34m(self, tree_sequence, samples, isolated_as_missing, alleles)\u001b[0m\n\u001b[1;32m    118\u001b[0m \u001b[39mself\u001b[39m\u001b[39m.\u001b[39mtree_sequence \u001b[39m=\u001b[39m tree_sequence\n\u001b[1;32m    119\u001b[0m \u001b[39mif\u001b[39;00m samples \u001b[39mis\u001b[39;00m \u001b[39mnot\u001b[39;00m \u001b[39mNone\u001b[39;00m:\n\u001b[0;32m--> 120\u001b[0m     samples \u001b[39m=\u001b[39m util\u001b[39m.\u001b[39;49msafe_np_int_cast(samples, np\u001b[39m.\u001b[39;49mint32)\n\u001b[1;32m    121\u001b[0m \u001b[39mself\u001b[39m\u001b[39m.\u001b[39m_ll_variant \u001b[39m=\u001b[39m _tskit\u001b[39m.\u001b[39mVariant(\n\u001b[1;32m    122\u001b[0m     tree_sequence\u001b[39m.\u001b[39m_ll_tree_sequence,\n\u001b[1;32m    123\u001b[0m     samples\u001b[39m=\u001b[39msamples,\n\u001b[1;32m    124\u001b[0m     isolated_as_missing\u001b[39m=\u001b[39misolated_as_missing,\n\u001b[1;32m    125\u001b[0m     alleles\u001b[39m=\u001b[39malleles,\n\u001b[1;32m    126\u001b[0m )\n",
      "File \u001b[0;32m~/miniconda3/envs/stdpopsim/lib/python3.9/site-packages/tskit/util.py:111\u001b[0m, in \u001b[0;36msafe_np_int_cast\u001b[0;34m(int_array, dtype, copy)\u001b[0m\n\u001b[1;32m    108\u001b[0m \u001b[39mexcept\u001b[39;00m \u001b[39mTypeError\u001b[39;00m:\n\u001b[1;32m    109\u001b[0m     \u001b[39mif\u001b[39;00m int_array\u001b[39m.\u001b[39mdtype \u001b[39m==\u001b[39m np\u001b[39m.\u001b[39mdtype(\u001b[39m\"\u001b[39m\u001b[39mO\u001b[39m\u001b[39m\"\u001b[39m):\n\u001b[1;32m    110\u001b[0m         \u001b[39m# this occurs e.g. if we're passed a list of lists of different lengths\u001b[39;00m\n\u001b[0;32m--> 111\u001b[0m         \u001b[39mraise\u001b[39;00m \u001b[39mTypeError\u001b[39;00m(\u001b[39m\"\u001b[39m\u001b[39mCannot convert to a rectangular array.\u001b[39m\u001b[39m\"\u001b[39m)\n\u001b[1;32m    112\u001b[0m     bounds \u001b[39m=\u001b[39m np\u001b[39m.\u001b[39miinfo(dtype)\n\u001b[1;32m    113\u001b[0m     \u001b[39mif\u001b[39;00m np\u001b[39m.\u001b[39many(int_array \u001b[39m<\u001b[39m bounds\u001b[39m.\u001b[39mmin) \u001b[39mor\u001b[39;00m np\u001b[39m.\u001b[39many(int_array \u001b[39m>\u001b[39m bounds\u001b[39m.\u001b[39mmax):\n",
      "\u001b[0;31mTypeError\u001b[0m: Cannot convert to a rectangular array."
     ]
    }
   ],
   "source": [
    "ts = engine.simulate(model, contig, samples)\n",
    "haps = allel.HaplotypeArray(ts.genotype_matrix())\n",
    "gns = haps.to_genotypes(ploidy=2)\n",
    "gns"
   ]
  },
  {
   "cell_type": "markdown",
   "metadata": {},
   "source": [
    "now we're ready to do PCA. we'll do the decomposition and then plot, note that allel requires a flattened version of the genotype array above that codes individual genotypes as 0/1/2 according to the number of reference alleles"
   ]
  },
  {
   "cell_type": "code",
   "execution_count": 31,
   "metadata": {},
   "outputs": [
    {
     "data": {
      "text/plain": [
       "<matplotlib.legend.Legend at 0x16bfa5190>"
      ]
     },
     "execution_count": 31,
     "metadata": {},
     "output_type": "execute_result"
    },
    {
     "data": {
      "image/png": "[encoded data removed]",
      "text/plain": [
       "<Figure size 432x432 with 1 Axes>"
      ]
     },
     "metadata": {
      "needs_background": "light"
     },
     "output_type": "display_data"
    }
   ],
   "source": [
    "\n",
    "def plot_pca_coords(coords, fitted, pc1, pc2, ax):\n",
    "    x = coords[:, pc1]\n",
    "    y = coords[:, pc2]\n",
    "    ax.plot(x[0:25], y[0:25], marker='o', linestyle=' ', label='CEU', markersize=6)\n",
    "    ax.plot(x[25:50], y[25:50], marker='o', linestyle=' ', label='CHB', markersize=6)\n",
    "    ax.plot(x[50:75], y[50:75], marker='o', linestyle=' ', label='YRI', markersize=6)\n",
    "\n",
    "    ax.set_xlabel('PC%s (%.1f%%)' % (pc1+1, fitted.explained_variance_ratio_[pc1]*100))\n",
    "    ax.set_ylabel('PC%s (%.1f%%)' % (pc2+1, fitted.explained_variance_ratio_[pc2]*100))\n",
    "\n",
    "\n",
    "fig, ax = plt.subplots(figsize=(6, 6))\n",
    "sns.despine(ax=ax, offset=10)\n",
    "\n",
    "coords, fitted = allel.pca(gns.to_n_ref())\n",
    "plot_pca_coords(coords, fitted, 0, 1, ax)\n",
    "ax.legend()\n",
    "\n"
   ]
  },
  {
   "cell_type": "markdown",
   "metadata": {},
   "source": [
    "### Questions?"
   ]
  },
  {
   "attachments": {},
   "cell_type": "markdown",
   "metadata": {},
   "source": [
    "---------\n",
    "## 6. How to ask for help\n",
    "- Have you read the [documentation](https://stdpopsim.readthedocs.io/en/stable/index.html)?\n",
    "- Search open and closed [GitHub issues](https://github.com/popsim-consortium/stdpopsim/issues?q=is%3Aissue)\n",
    "- Write a new [GitHub issue](https://github.com/popsim-consortium/stdpopsim/issues/new/choose)\n",
    "- Join the PopSim Slack workspace and post in the #newbie-help channel ([invite link here](https://join.slack.com/t/popsimgroup/shared_invite/zt-1ql1axuk6-ymqHmu9NQJ1PqfZKFC6SzQ))"
   ]
  },
  {
   "cell_type": "markdown",
   "metadata": {},
   "source": [
    "---------\n",
    "## 7. Some examples of what stdpopsim cannot currently do\n",
    "- simulate species or demographic models that are not in the catalog \n",
    "    - if you want to do this, if it is a published model - submit it to stdpopsim, if it is not a published model, use a simulator (e.g. msprime, slim)\n",
    "- simulate parameter values not from the published model (including priors)\n",
    "- simulate selection (in the works!)\n",
    "- simulate missing data and errors (on the horizon!)\n"
   ]
  },
  {
   "cell_type": "markdown",
   "metadata": {},
   "source": [
    "----------\n",
    "## 8. Teaser of [how to contribute](https://stdpopsim.readthedocs.io/en/stable/development.html#)\n",
    "\n",
    "- Write [GitHub issues](https://github.com/popsim-consortium/stdpopsim/issues/new/choose)!\n",
    "- [Add new species](https://stdpopsim.readthedocs.io/en/stable/development.html#adding-a-new-species)\n",
    "- [Add new demographic models](https://stdpopsim.readthedocs.io/en/stable/development.html#adding-a-new-demographic-model)\n",
    "- Help with Documentation and tutorials"
   ]
  },
  {
   "cell_type": "markdown",
   "metadata": {},
   "source": [
    "-----------\n",
    "## 9. Using stdpopsim on your own after the workshop\n",
    "- Play in a Jupyter Notebook Binder\n",
    "  - Using this one [![Binder](https://mybinder.org/badge_logo.svg)](https://mybinder.org/v2/gh/popsim-consortium/workshops.git/main?filepath=intro_stdpopsim%2FIntro_stdpopsim.ipynb)\n",
    "  - In the Binder associated with the [stdpopsim GitHub repository](https://github.com/popsim-consortium/stdpopsim) [![Binder](https://mybinder.org/badge_logo.svg)](https://mybinder.org/v2/gh/popsim-consortium/stdpopsim/master?filepath=stdpopsim_example.ipynb)\n",
    "- Install stdpopsim locally following the [instructions in the documentation](https://stdpopsim.readthedocs.io/en/stable/installation.html)\n",
    "- Consult the [stdpopsim documentation](https://stdpopsim.readthedocs.io/en/stable/installation.html)"
   ]
  },
  {
   "cell_type": "markdown",
   "metadata": {},
   "source": [
    "---------\n",
    "## 10. How to Navigate the [stdpopsim library catalog](https://stdpopsim.readthedocs.io/en/stable/catalog.html)\n",
    "\n",
    "### The Catalog is organized first by species.\n",
    "\n",
    "_How many species are there?_\n",
    "\n",
    "![](images/catalog.png)\n"
   ]
  },
  {
   "cell_type": "markdown",
   "metadata": {},
   "source": [
    "### Each species has a set of defining attributes. \n",
    "\n",
    "_What are the attributes?_\n",
    "\n",
    "![](images/species_attributes.png)"
   ]
  },
  {
   "cell_type": "markdown",
   "metadata": {},
   "source": [
    "### Each species has defined genome parameters.\n",
    "\n",
    "_What are the genome parameters?_\n",
    "\n",
    "![](images/genome_params.png)"
   ]
  },
  {
   "cell_type": "markdown",
   "metadata": {},
   "source": [
    "### Some species have a genetic map.\n",
    "\n",
    "Genetic maps are stored on AWS and downloaded to cache when used.\n",
    "\n",
    "![](images/genetic_maps.png)"
   ]
  },
  {
   "cell_type": "markdown",
   "metadata": {},
   "source": [
    "### Some species have demographic models.\n",
    "\n",
    "All models are from published models.\n",
    "\n",
    "_What models are available? Are there any you recognize from the literature?_\n",
    "\n",
    "![](images/models.png)"
   ]
  },
  {
   "cell_type": "markdown",
   "metadata": {},
   "source": [
    "### Each model has a description and set of defining attributes. \n",
    "\n",
    "_What are the attributes?_\n",
    "\n",
    "![](images/model_attr.png)"
   ]
  },
  {
   "cell_type": "markdown",
   "metadata": {},
   "source": [
    "### Each model has a table of defined model parameters from the publication. \n",
    "\n",
    "_Can you find where in the original publication the model parameters are given?_\n",
    "\n",
    "![](images/model_params.png)"
   ]
  }
 ],
 "metadata": {
  "kernelspec": {
   "display_name": "Python 3 (ipykernel)",
   "language": "python",
   "name": "python3"
  },
  "language_info": {
   "codemirror_mode": {
    "name": "ipython",
    "version": 3
   },
   "file_extension": ".py",
   "mimetype": "text/x-python",
   "name": "python",
   "nbconvert_exporter": "python",
   "pygments_lexer": "ipython3",
   "version": "3.9.9"
  }
 },
 "nbformat": 4,
 "nbformat_minor": 4
}
