{
 "cells": [
  {
   "cell_type": "markdown",
   "id": "employed-richardson",
   "metadata": {},
   "source": [
    "# Contributing to stdpopsim\n",
    "In this workshop we are going to go through the major routes by which one can add to the `stdpopsim` catalog specifically, but to a lesser extent along the way we will highlight the myriad additions and contributions that we'd love to see the community build on to the project. \n",
    "\n",
    "By way of a road map, through this workshop we will look at 1) how to add a new species genome to the `stdpopsim` catalog, using the mosquito _Anopheles gambiae_ as our example, 2) adding a genetic map to our genome, and 3) adding a demographic model to our new species or any other that already exists in the catalog. \n",
    "\n",
    "## Getting ready to develop with us on github\n",
    "[Github](https://github.com) provides an incredibly powerful tool for us to collaboratively build code on. Their platform enables everything from automated testing, to code review tools, to excellent version control. As we step through the workshop, at various turns we will depend on Github and its commandline engine `git`. \n",
    "\n",
    "### Create your own fork of stdpopsim\n",
    "Okay the first step towards contributing to `stdpopsim` is to create your own _fork_ on github. Do to that\n",
    "natigate to [the popsim-consortium github repo](https://github.com/popsim-consortium/stdpopsim) and hit the `fork` button on the top right (see Figure 1 below). \n",
    "![Figure 1. Fork our repo on Github](gh1.png)\n",
    "\n",
    "### Clone your fork locally\n",
    "Next clone your now up-to-date fork locally on to your machine. This can be done at the commandline using `git` as\n",
    "```\n",
    "git clone https://github.com/<your_username>/stdpopsim.git\n",
    "```\n",
    "with your actual github username in place of `<your_username>`."
   ]
  },
  {
   "cell_type": "markdown",
   "id": "white-miniature",
   "metadata": {},
   "source": [
    "### Setup a python environment to code in\n",
    "Next (and for the sake of completeness) I'm going to start by setting up a new `conda` virtual environment and then will install the `stdpopsim` development requirements onto that using `pip`. Further documentation on installation of `stdposim` can be found [here](https://stdpopsim.readthedocs.io/en/latest/development.html#installation).\n",
    "```\n",
    "cd stdpopsim\n",
    "conda create -n stdpopsim python=3.9 --yes\n",
    "conda activate stdpopsim\n",
    "pip install -r requirements/development.txt\n",
    "```\n",
    "with that done everything should be in place for us to start coding!"
   ]
  },
  {
   "cell_type": "markdown",
   "id": "liked-poetry",
   "metadata": {},
   "source": [
    "finally as a last step I will setup the automated code checking / error correction that we use by running \n",
    "```\n",
    "pre-commit install\n",
    "```"
   ]
  },
  {
   "cell_type": "markdown",
   "id": "upset-combat",
   "metadata": {},
   "source": [
    "## Adding a species\n",
    "For the sake of the workshop we are going to go through all of the steps that it would take to add a species, in this case _Anopheles gambiae_. Again our workflow actually starts with considerations of `git` and version control. Our first step will be to create a new _branch_ of `stdpopsim` using `git` which will effectively keep track of the new features we will be adding\n",
    "\n",
    "```\n",
    "git checkout -b mosquito\n",
    "```\n",
    "now any changes that I commit, will only be committed to the branch called `mosquito`. "
   ]
  },
  {
   "cell_type": "markdown",
   "id": "isolated-carter",
   "metadata": {},
   "source": [
    "`stdpopsim` has a few utilities that play well with [Ensembl](https://ensembl.org/index.html), including one that we will use to create some code templates for us to buildout a new species. This utility lives on the \"maintenance\" side of `stdpopsim` which houses utilities that are not user facing. \n",
    "\n",
    "To add our species we will hand the `maintenance` command line interface an Ensembl species ID and it will go and pull down some essential information about the genome. A partial list of the genomes housed on Ensembl [can be found here](https://metazoa.ensembl.org/species.html)\n",
    "```\n",
    "python -m maintenance add-species Anopheles_gambiae\n",
    "```\n",
    "and it returns to me\n",
    "```\n",
    "2021-03-10 12:30:59,590 [3668] INFO     maint: Adding new species AnoGam for Ensembl ID anopheles_gambiae\n",
    "2021-03-10 12:30:59,590 [3668] INFO     maint: Writing genome data for AnoGam anopheles_gambiae\n",
    "2021-03-10 12:30:59,591 [3668] INFO     ensembl: making request to http://rest.ensembl.org/info/assembly/anopheles_gambiae?synonyms=1\n",
    "2021-03-10 12:31:00,468 [3668] INFO     ensembl: making request to http://rest.ensembl.org/info/genomes/anopheles_gambiae\n",
    "2021-03-10 12:31:02,846 [3668] INFO     maint: AnoGam: name=Anopheles gambiae, common_name=Anopheles gambiae\n",
    "2021-03-10 12:31:02,846 [3668] INFO     maint: Writing species definition stub to stdpopsim/catalog/AnoGam/species.py\n",
    "2021-03-10 12:31:02,904 [3668] INFO     maint: Writing species test stub to tests/test_AnoGam.py\n",
    "2021-03-10 12:31:02,938 [3668] INFO     ensembl: making request to http://rest.ensembl.org/info/data\n",
    "2021-03-10 12:31:03,853 [3668] INFO     maint: Using Ensembl release 103\n",
    "```\n",
    "wicked. The next steps are going to be to flesh out the code templates that the `maintenance` code just wrote for us in our branch. Let's go look at the files that were just created for us and we will compare them to a closely related genome. "
   ]
  },
  {
   "cell_type": "markdown",
   "id": "coral-edward",
   "metadata": {},
   "source": [
    "### Looking at the catalog"
   ]
  },
  {
   "cell_type": "markdown",
   "id": "north-carnival",
   "metadata": {},
   "source": [
    "The function call above has created a few new files in the directory structure of stdpopsim, in particular at the level of `stdpopsim/catalog` this utility has created a new directory called `AnoGam`, which contains three files. The 3 + 3 naming scheme for this directory (and all following references in `stdpopsim`) is automatically parsed by the maintenance script.\n",
    "```\n",
    "├── catalog\n",
    "│   ├── AnoGam\n",
    "│   │   ├── __init__.py\n",
    "│   │   ├── genome_data.py\n",
    "│   │   └── species.py\n",
    "```\n",
    "\n"
   ]
  },
  {
   "cell_type": "markdown",
   "id": "induced-maximum",
   "metadata": {},
   "source": [
    "first lets look in `genome_data.py` file. this contains the **physical map** of the genome. "
   ]
  },
  {
   "cell_type": "code",
   "execution_count": 9,
   "id": "eight-microwave",
   "metadata": {},
   "outputs": [
    {
     "name": "stdout",
     "output_type": "stream",
     "text": [
      "# File autogenerated from Ensembl REST API. Do not edit.\r\n",
      "data = {\r\n",
      "    \"assembly_accession\": \"GCA_000005575.1\",\r\n",
      "    \"assembly_name\": \"AgamP4\",\r\n",
      "    \"chromosomes\": {\r\n",
      "        \"2L\": {\"length\": 49364325, \"synonyms\": []},\r\n",
      "        \"2R\": {\"length\": 61545105, \"synonyms\": []},\r\n",
      "        \"3L\": {\"length\": 41963435, \"synonyms\": []},\r\n",
      "        \"3R\": {\"length\": 53200684, \"synonyms\": []},\r\n",
      "        \"X\": {\"length\": 24393108, \"synonyms\": []},\r\n",
      "        \"Mt\": {\"length\": 15363, \"synonyms\": []},\r\n",
      "    },\r\n",
      "}\r\n"
     ]
    }
   ],
   "source": [
    "! cat ../../stdpopsim/stdpopsim/catalog/AnoGam/genome_data.py"
   ]
  },
  {
   "cell_type": "markdown",
   "id": "italic-airfare",
   "metadata": {},
   "source": [
    "so we can see that the utility we can, has sucked down a whole lot of useful information for us for free. this `genome_data.py` essentially puts together a data dictionary which has slots for the assembly accession number, the assembly name, and a dict representing the chromosome names and their associated lengths. If synonymns are defined (e.g., chr2L for 2L) then those are given in the list that follows. There is no reason to edit this file-- we are good here. "
   ]
  },
  {
   "cell_type": "markdown",
   "id": "relative-africa",
   "metadata": {},
   "source": [
    "Next let's look at the `species.py` file. This is the file that we will need to edit with our species specific information. The basics that we will need here include:\n",
    "- a genome-wide average recombination rate\n",
    "- a genome-wide average mutation rate\n",
    "- a generate time estimate (in years)\n",
    "- a default population size\n",
    "- literature citations that one can point to for the above and the assembly\n",
    "\n",
    "in addition there is some optional information that we might add. this could include chromosome specific recombination\n",
    "or mutation rates, but we will keep things simple for the most part today."
   ]
  },
  {
   "cell_type": "markdown",
   "id": "varied-analysis",
   "metadata": {},
   "source": [
    "### recombination rates\n",
    "As a reference for recombination rates in my organism I'm going to use a mapping based study from [Pombi et al. (2006)](https://doi.org/10.4269/ajtmh.2006.75.901).\n",
    "In that manuscript the authors cite rates around 1cM/Mb, with a bit of variation among arms. In particular let's edit the following block of code in `species.py` that defines the recombination_rate dict"
   ]
  },
  {
   "cell_type": "code",
   "execution_count": null,
   "id": "enclosed-narrow",
   "metadata": {},
   "outputs": [],
   "source": [
    "_recombination_rate = {\n",
    "    \"2L\": 0, #setting to zero because of inversion \n",
    "    \"2R\": 1.3e-8, \n",
    "    \"3L\": 1.6e-8, \n",
    "    \"3R\": 1.3e-8, \n",
    "    \"X\": 1e-8,\n",
    "    \"Mt\": 0\n",
    "}"
   ]
  },
  {
   "cell_type": "markdown",
   "id": "starting-christianity",
   "metadata": {},
   "source": [
    "next we need to add a citation for these rates. will we do that by adding a `stdpopsim.Citation` object to the file that we will include later. that Citation object looks like this"
   ]
  },
  {
   "cell_type": "code",
   "execution_count": null,
   "id": "developing-allowance",
   "metadata": {},
   "outputs": [],
   "source": [
    "_PombiEtAl = stdpopsim.Citation(\n",
    "    doi=\"https://doi.org/10.4269/ajtmh.2006.75.901\",\n",
    "    year=2006,\n",
    "    author=\"Pombi et al.\",\n",
    "    reasons={stdpopsim.CiteReason.REC_RATE},\n",
    ")"
   ]
  },
  {
   "cell_type": "markdown",
   "id": "compound-intermediate",
   "metadata": {},
   "source": [
    "okay having edited our file that takes care of recombination rate defaults and citations. Next we need to add mutation rates. As it turns out we don't have great estimates for mutation rate in Anopheles but in a recent population genomics effort by the [Ag1000G consortium](https://doi.org/10.1038/nature24995) we have relied on Drosophila estimates from [Schrider et al. (2013)](https://doi.org/10.1534/genetics.113.151670) that set $u=5.49e^{-9}$. We'll go with that. \n",
    "\n",
    "So again first let's add a citation for the mutation rate and then edit the `_mutation_rate` dict that was templated for us"
   ]
  },
  {
   "cell_type": "code",
   "execution_count": null,
   "id": "accessible-weapon",
   "metadata": {},
   "outputs": [],
   "source": [
    "_Ag1000G = stdpopsim.Citation(\n",
    "    doi=\"https://doi.org/10.1038/nature24995\",\n",
    "    year=2017,\n",
    "    author=\"Ag1000G Consortium\",\n",
    "    reasons={stdpopsim.CiteReason.MUT_RATE, stdpopsim.CiteReason.GEN_TIME, stdpopsim.CiteReason.POP_SIZE},\n",
    ")"
   ]
  },
  {
   "cell_type": "markdown",
   "id": "demanding-success",
   "metadata": {},
   "source": [
    "and for the mutation rate block let's set an overall rate as suggested and then populate our dict"
   ]
  },
  {
   "cell_type": "code",
   "execution_count": null,
   "id": "instrumental-savannah",
   "metadata": {},
   "outputs": [],
   "source": [
    "_overall_rate = 5.49e-9\n",
    "_mutation_rate = {\n",
    "    \"2L\": _overall_rate,\n",
    "    \"2R\": _overall_rate,\n",
    "    \"3L\": _overall_rate,\n",
    "    \"3R\": _overall_rate,\n",
    "    \"X\": _overall_rate,\n",
    "    \"Mt\": _overall_rate\n",
    "}"
   ]
  },
  {
   "cell_type": "markdown",
   "id": "cosmetic-accreditation",
   "metadata": {},
   "source": [
    "I still need an assembly citation. Ensembl points me to this publication for\n",
    "their current assembly by [Sharakhova et al. (2006)](https://doi.org/10.1186/gb-2007-8-1-r5). I'll create a citation for that and then edit"
   ]
  },
  {
   "cell_type": "code",
   "execution_count": null,
   "id": "contemporary-while",
   "metadata": {},
   "outputs": [],
   "source": [
    "_SharakhovaEtAl = stdpopsim.Citation(\n",
    "    doi=\"https://doi.org/10.1186/gb-2007-8-1-r5\",\n",
    "    year=2006,\n",
    "    author=\"Sharakhova et al.\",\n",
    "    reasons={stdpopsim.CiteReason.ASSEMBLY},\n",
    ")"
   ]
  },
  {
   "cell_type": "markdown",
   "id": "comparable-harvard",
   "metadata": {},
   "source": [
    "and now we will put it all together to create the genome object"
   ]
  },
  {
   "cell_type": "code",
   "execution_count": null,
   "id": "ancient-behavior",
   "metadata": {},
   "outputs": [],
   "source": [
    "_genome = stdpopsim.Genome.from_data(\n",
    "    genome_data.data,\n",
    "    recombination_rate=_recombination_rate,\n",
    "    mutation_rate=_mutation_rate,\n",
    "    citations=[\n",
    "        _SharakhovaEtAl,\n",
    "        _Ag1000G,\n",
    "        _PombiEtAl,\n",
    "    ],\n",
    ")"
   ]
  },
  {
   "cell_type": "markdown",
   "id": "marine-lodge",
   "metadata": {},
   "source": [
    "Finally I'm going to edit the species definition in `species.py` to include a default population size and generation time. \n",
    "\n",
    "For this we will again rely on the Ag1000G paper and call the generation time 11 gens per year and the population size approximately 6 million, which corresponds to the Ghana population sample"
   ]
  },
  {
   "cell_type": "code",
   "execution_count": null,
   "id": "recreational-copying",
   "metadata": {},
   "outputs": [],
   "source": [
    "_species = stdpopsim.Species(\n",
    "    id=\"AnoGam\",\n",
    "    ensembl_id=\"anopheles_gambiae\",\n",
    "    name=\"Anopheles gambiae\",\n",
    "    common_name=\"Anopheles gambiae\",\n",
    "    genome=_genome,\n",
    "    generation_time=1/11,\n",
    "    population_size=6e6, #Ghana population\n",
    "    citations=[_Ag1000G]\n",
    ")"
   ]
  },
  {
   "cell_type": "markdown",
   "id": "closing-sessions",
   "metadata": {},
   "source": [
    "now we can make sure this works at the command line\n",
    "```\n",
    "python -m stdpopsim AnoGam --help\n",
    "```\n",
    "returns for me\n",
    "```\n",
    "usage: __main__.py AnoGam [-h] [--help-models [HELP_MODELS]] [-b BIBTEX_FILE] [-D] [-c] [-L LENGTH] [-i INCLUSION_MASK]\n",
    "                          [-e EXCLUSION_MASK] [-l LENGTH_MULTIPLIER] [-s SEED] [-d] [-o OUTPUT]\n",
    "                          samples [samples ...]\n",
    "\n",
    "Run simulations for Anopheles gambiae using up-to-date genome\n",
    "information, genetic maps and simulation models from the literature.\n",
    "NOTE: By default, the tskit '.trees' binary file is written to\n",
    "stdout,so you should either redirect this to a file or use the '--\n",
    "output' option to specify a filename.\n",
    "\n",
    "Default population parameters for Anopheles gambiae:\n",
    "Generation time: 0.09090909090909091\n",
    "Population size: 6000000.0\n",
    "Mutation rate: 5.49e-09\n",
    "Recombination rate: 1.044e-08\n",
    "\n",
    "...\n",
    "...\n",
    "...\n",
    "```"
   ]
  },
  {
   "attachments": {},
   "cell_type": "markdown",
   "id": "cleared-gamma",
   "metadata": {},
   "source": [
    "### Initiating a Pull Request for your species\n",
    "Okay if we are happy enough with our species we are ready to commit all our changes to our branch and start a pull request on github. First we double check we are on our new branch\n",
    "```\n",
    "git branch -v\n",
    "```\n",
    "and if all good we are ready to commit with\n",
    "```\n",
    "git add stdpopsim/catalog/AnoGam/*.py\n",
    "git commit -am \"added mosquito genome woot\"\n",
    "\n",
    "```\n",
    "depending on how well you follow official style, the pre-commit hooks \n",
    "that call the auto-formatting tools `black` and `flake8` \n",
    "may or may not reformat your code. if they do simply rerun `git commit`\n",
    "and you should now successfully be able to commit your code. \n",
    "\n",
    "Having done that the next step is to push your code to your fork\n",
    "on github, from which you can start the PR. \n",
    "```\n",
    "git push --set-upstream origin mosquito\n",
    "```\n",
    "if successful this will return some output including an URL address to\n",
    "a github page that will allow you to immediately open a new Pull Request,\n",
    "asking the maintainers of `stdpopsim` to look over your code. e.g.,\n",
    "\n",
    "![Figure 3](gh3.png)\n",
    "\n",
    "in the little text box shown it's customary to write a brief description\n",
    "of the work you've done, the features you have added, etc.. \n",
    "Github offers a wide array of tools for referencing issues and tasks \n",
    "through the Pull Request system, and you'll learn these with experience. \n",
    "\n",
    "\n",
    "-------------------------\n",
    "\n",
    "### Start QC Issue\n",
    "\n",
    "Finally start a new issue using the Species QC template seen below\n",
    "![Figure 2](gh2.png)"
   ]
  },
  {
   "cell_type": "markdown",
   "id": "standard-attendance",
   "metadata": {},
   "source": [
    "### A note about tests\n",
    "`stdpopsim` in part guarantees code quality through the use of unit testing. Basic sanity tests for our new species will be completed through QC over in the `tests/test_AnoGam.py` file our `add-species` utility stubbed out for us.\n",
    "\n"
   ]
  },
  {
   "cell_type": "markdown",
   "id": "shared-monitoring",
   "metadata": {},
   "source": [
    "# Adding a demographic history\n",
    "Perhaps as a contributor you are interested in adding a new demographic history to an \n",
    "existing species.\n",
    "Building off our AnoGam catalog entry lets use demographic histories that we estimated\n",
    "as part of the Ag1000G paper. For these histories we used a site frequency based method that estimates a piecewise constant history of population size back in time called [stairwayplot](https://github.com/kr-colab/stairwayPlotMisorient). I'm going to download one of these estimated histories here and manipulate the file a bit to pull out the times and population sizes going back in time.\n",
    "\n",
    "First download the population-size history estimated from a sample of Anopheles gambiae\n",
    "from Gabon."
   ]
  },
  {
   "cell_type": "code",
   "execution_count": 18,
   "id": "liberal-pledge",
   "metadata": {},
   "outputs": [
    {
     "name": "stdout",
     "output_type": "stream",
     "text": [
      "--2021-03-10 16:05:57--  ftp://ngs.sanger.ac.uk/production/ag1000g/phase1/AR3.1/stairway_plot/GAS.meru_mela.sfs.sp.summary\n",
      "           => ‘GAS.meru_mela.sfs.sp.summary’\n",
      "Resolving ngs.sanger.ac.uk (ngs.sanger.ac.uk)... 193.62.203.79\n",
      "Connecting to ngs.sanger.ac.uk (ngs.sanger.ac.uk)|193.62.203.79|:21... connected.\n",
      "Logging in as anonymous ... Logged in!\n",
      "==> SYST ... done.    ==> PWD ... done.\n",
      "==> TYPE I ... done.  ==> CWD (1) /production/ag1000g/phase1/AR3.1/stairway_plot ... done.\n",
      "==> SIZE GAS.meru_mela.sfs.sp.summary ... 47711\n",
      "==> PASV ... done.    ==> RETR GAS.meru_mela.sfs.sp.summary ... done.\n",
      "Length: 47711 (47K) (unauthoritative)\n",
      "\n",
      "GAS.meru_mela.sfs.s 100%[===================>]  46.59K  93.2KB/s    in 0.5s    \n",
      "\n",
      "2021-03-10 16:06:03 (93.2 KB/s) - ‘GAS.meru_mela.sfs.sp.summary’ saved [47711]\n",
      "\n"
     ]
    }
   ],
   "source": [
    "!wget ftp://ngs.sanger.ac.uk/production/ag1000g/phase1/AR3.1/stairway_plot/GAS.meru_mela.sfs.sp.summary "
   ]
  },
  {
   "cell_type": "markdown",
   "id": "proud-minister",
   "metadata": {},
   "source": [
    "then i'm going to chop out what i want using a little python. this code is a bit ugly\n",
    "because of the file format, but I'm just trying to pull out a set of times and a set of population sizes that correspond to those times"
   ]
  },
  {
   "cell_type": "code",
   "execution_count": 52,
   "id": "stock-egyptian",
   "metadata": {},
   "outputs": [],
   "source": [
    "def process_sp(fn, gen_time):\n",
    "    \"\"\"\n",
    "    returns 2 x times array of \n",
    "    times and Ns\n",
    "    \"\"\"\n",
    "    times = []\n",
    "    ns = []\n",
    "    f = open(fn,\"r\")\n",
    "    seen = {}\n",
    "    readingSp = False\n",
    "    for line in f:\n",
    "        line = line.strip().split()\n",
    "        if line[0] == \"mutation_per_site\":\n",
    "            readingSp = True\n",
    "            first = True\n",
    "        elif readingSp:\n",
    "            mutPerSite, i, thetaPerSite, thetaPerSiteLow, thetaPerSiteHigh, year, neMedian, neLow, neHigh = line\n",
    "            if not i in seen:\n",
    "                year, neMedian, thetaPerSite = float(year), float(neMedian), float(thetaPerSite)\n",
    "                assert not \".\" in i\n",
    "                i = int(i)\n",
    "                seen[i] = 1\n",
    "                if first:\n",
    "                    first = False\n",
    "                    ne0 = neMedian\n",
    "                    times.append(0)\n",
    "                    ns.append(ne0)\n",
    "                else:\n",
    "                    times.append(year * gen_time)\n",
    "                    ns.append(neMedian)\n",
    "    return(np.array([np.array(times),np.array(ns)]))\n",
    "\n"
   ]
  },
  {
   "cell_type": "markdown",
   "id": "dangerous-emerald",
   "metadata": {},
   "source": [
    "let's use this function then to suck out the times and and population sizes and then plot them quickly"
   ]
  },
  {
   "cell_type": "code",
   "execution_count": 76,
   "id": "aboriginal-diagram",
   "metadata": {},
   "outputs": [
    {
     "data": {
      "text/plain": [
       "Text(0, 0.5, 'N')"
      ]
     },
     "execution_count": 76,
     "metadata": {},
     "output_type": "execute_result"
    },
    {
     "data": {
      "image/png": "[encoded data removed]",
      "text/plain": [
       "<Figure size 432x288 with 1 Axes>"
      ]
     },
     "metadata": {
      "needs_background": "light"
     },
     "output_type": "display_data"
    }
   ],
   "source": [
    "from matplotlib import pyplot as plt\n",
    "\n",
    "x = process_sp(\"GAS.meru_mela.sfs.sp.summary\",1/11)\n",
    "#x[0] are the times, x[1] are the popnsizes\n",
    "plt.plot(x[0],x[1])\n",
    "plt.xlabel(\"time\")\n",
    "plt.ylabel(\"N\")"
   ]
  },
  {
   "cell_type": "markdown",
   "id": "revised-culture",
   "metadata": {},
   "source": [
    "### add demography.py\n",
    "To add species specific demographic models, we need to add a file called `demographic_models.py` into our species directory.\n",
    "We can go look at the Arabidopsis demographic model entries for some simple\n",
    "population size change histories. We can find them at `stdpopsim/catalog/AraTha/demographic_models.py`\n",
    "\n",
    "For `AnoGam` I'll create an analogous file called\n",
    "`stdpopsim/catalog/AnoGam/demographic_models.py`\n",
    "with the following header."
   ]
  },
  {
   "cell_type": "code",
   "execution_count": null,
   "id": "living-rochester",
   "metadata": {},
   "outputs": [],
   "source": [
    "import msprime\n",
    "import numpy as np\n",
    "import stdpopsim\n",
    "\n",
    "_species = stdpopsim.get_species(\"AnoGam\")"
   ]
  },
  {
   "cell_type": "markdown",
   "id": "monetary-mexican",
   "metadata": {},
   "source": [
    "then into here I will add individual models. The model above could be entered as the following"
   ]
  },
  {
   "cell_type": "code",
   "execution_count": null,
   "id": "plastic-announcement",
   "metadata": {},
   "outputs": [],
   "source": [
    "def _GAS_sp():\n",
    "    # the size during the interval times[k] to times[k+1] = sizes[k]\n",
    "    times = np.array(\n",
    "      [1.08221472e+01, 1.08221472e+01, 1.77815418e+01, 1.77815418e+01,\n",
    "       2.43957877e+01, 2.43957877e+01, 2.62194838e+01, 2.62194838e+01,\n",
    "       2.80715527e+01, 2.80715527e+01, 2.99059882e+01, 2.99059882e+01,\n",
    "       3.17590591e+01, 3.17590591e+01, 3.36213534e+01, 3.36213534e+01,\n",
    "       3.55031410e+01, 3.55031410e+01, 3.74218265e+01, 3.74218265e+01,\n",
    "       3.93692837e+01, 3.93692837e+01, 4.13556900e+01, 4.13556900e+01,\n",
    "       4.33822257e+01, 4.33822257e+01, 4.54501193e+01, 4.54501193e+01,\n",
    "       4.75606499e+01, 4.75606499e+01, 4.97151498e+01, 4.97151498e+01,\n",
    "       5.19150077e+01, 5.19150077e+01, 5.41616710e+01, 5.41616710e+01,\n",
    "       5.64566497e+01, 5.64566497e+01, 5.88015192e+01, 5.88015192e+01,\n",
    "       6.11979243e+01, 6.11979243e+01, 6.36475829e+01, 6.36475829e+01,\n",
    "       6.61522900e+01, 6.61522900e+01, 6.87139222e+01, 6.87139222e+01,\n",
    "       7.13468519e+01, 7.13468519e+01, 7.40546632e+01, 7.40546632e+01,\n",
    "       7.69788992e+01, 7.69788992e+01, 8.00932536e+01, 8.00932536e+01,\n",
    "       8.33883683e+01, 8.33883683e+01, 9.33624771e+01, 9.33624771e+01,\n",
    "       1.05867180e+02, 1.05867180e+02, 1.19778311e+02, 1.19778311e+02,\n",
    "       1.34317538e+02, 1.34317538e+02, 1.49486416e+02, 1.49486416e+02,\n",
    "       1.65081438e+02, 1.65081438e+02, 1.81069660e+02, 1.81069660e+02,\n",
    "       1.96884420e+02, 1.96884420e+02, 2.13010501e+02, 2.13010501e+02,\n",
    "       2.28659684e+02, 2.28659684e+02, 2.43883726e+02, 2.43883726e+02,\n",
    "       2.58403062e+02, 2.58403062e+02, 2.70573820e+02, 2.70573820e+02,\n",
    "       2.75664382e+02, 2.75664382e+02, 2.80730912e+02, 2.80730912e+02,\n",
    "       2.85888999e+02, 2.85888999e+02, 2.91187697e+02, 2.91187697e+02,\n",
    "       2.96632655e+02, 2.96632655e+02, 3.02218199e+02, 3.02218199e+02,\n",
    "       3.07951917e+02, 3.07951917e+02, 3.13860240e+02, 3.13860240e+02,\n",
    "       3.19955507e+02, 3.19955507e+02, 3.26244790e+02, 3.26244790e+02,\n",
    "       3.32745865e+02, 3.32745865e+02, 3.39465956e+02, 3.39465956e+02,\n",
    "       3.46421839e+02, 3.46421839e+02, 3.53626147e+02, 3.53626147e+02,\n",
    "       3.61092430e+02, 3.61092430e+02, 3.68835241e+02, 3.68835241e+02,\n",
    "       3.76870235e+02, 3.76870235e+02, 3.85214266e+02, 3.85214266e+02,\n",
    "       3.93885515e+02, 3.93885515e+02, 4.02903613e+02, 4.02903613e+02,\n",
    "       4.12289797e+02, 4.12289797e+02, 4.22067072e+02, 4.22067072e+02,\n",
    "       4.32260401e+02, 4.32260401e+02, 4.42896919e+02, 4.42896919e+02,\n",
    "       4.54006170e+02, 4.54006170e+02, 4.65620388e+02, 4.65620388e+02,\n",
    "       4.77774801e+02, 4.77774801e+02, 4.90490498e+02, 4.90490498e+02,\n",
    "       5.03826473e+02, 5.03826473e+02, 5.17829247e+02, 5.17829247e+02,\n",
    "       5.32550112e+02, 5.32550112e+02, 5.48045759e+02, 5.48045759e+02,\n",
    "       5.64379009e+02, 5.64379009e+02, 5.81588679e+02, 5.81588679e+02,\n",
    "       5.99781759e+02, 5.99781759e+02, 6.19045020e+02, 6.19045020e+02,\n",
    "       6.39454764e+02, 6.39454764e+02, 6.61129552e+02, 6.61129552e+02,\n",
    "       6.84129309e+02, 6.84129309e+02, 7.08609246e+02, 7.08609246e+02,\n",
    "       7.34719738e+02, 7.34719738e+02, 7.62657505e+02, 7.62657505e+02,\n",
    "       7.92661043e+02, 7.92661043e+02, 8.24963147e+02, 8.24963147e+02,\n",
    "       8.59801339e+02, 8.59801339e+02, 8.97519058e+02, 8.97519058e+02,\n",
    "       9.38516578e+02, 9.38516578e+02, 9.83196252e+02, 9.83196252e+02,\n",
    "       1.03213113e+03, 1.03213113e+03, 1.08595950e+03, 1.08595950e+03,\n",
    "       1.14545402e+03, 1.14545402e+03, 1.21187638e+03, 1.21187638e+03,\n",
    "       1.42580467e+03, 1.42580467e+03, 1.66762718e+03, 1.66762718e+03,\n",
    "       1.94206662e+03, 1.94206662e+03, 2.25673855e+03, 2.25673855e+03,\n",
    "       2.61982155e+03, 2.61982155e+03, 3.04325043e+03, 3.04325043e+03,\n",
    "       3.54366638e+03, 3.54366638e+03, 4.14416552e+03, 4.14416552e+03,\n",
    "       4.86878040e+03, 4.86878040e+03, 5.74277111e+03, 5.74277111e+03,\n",
    "       6.06376420e+03, 6.06376420e+03, 6.48115044e+03, 6.48115044e+03,\n",
    "       7.16974182e+03, 7.16974182e+03, 9.94668728e+03, 9.94668728e+03,\n",
    "       1.08341379e+04, 1.08341379e+04, 1.12602248e+04, 1.12602248e+04,\n",
    "       1.80292683e+04])\n",
    "    sizes = np.array([4069863.26413754, 2570469.78880419, 2570469.78880419,\n",
    "       2398970.46335773, 2398970.46335773,  649423.64089016,\n",
    "        649423.64089016,  647425.87204344,  647425.87204344,\n",
    "        629386.55333025,  629386.55333025,  623896.55036331,\n",
    "        623896.55036331,  615171.6634657 ,  615171.6634657 ,\n",
    "        609770.71698915,  609770.71698915,  609770.71698915,\n",
    "        609770.71698915,  606896.78477367,  606896.78477367,\n",
    "        606896.78477367,  606896.78477367,  606896.78477367,\n",
    "        606896.78477367,  606896.78477367,  606896.78477367,\n",
    "        606896.78477367,  606896.78477367,  606896.78477367,\n",
    "        606896.78477367,  606896.78477367,  606896.78477367,\n",
    "        606896.78477367,  606896.78477367,  606896.78477367,\n",
    "        606896.78477367,  606896.78477367,  606896.78477367,\n",
    "        606896.78477367,  606896.78477367,  606896.78477367,\n",
    "        606896.78477367,  606896.78477367,  606896.78477367,\n",
    "        606896.78477367,  606896.78477367,  609770.71698915,\n",
    "        609770.71698915,  612860.29930411,  612860.29930411,\n",
    "        646628.97921259,  646628.97921259,  672653.84034255,\n",
    "        672653.84034255,  694949.57011815,  694949.57011815,\n",
    "       2053484.48904133, 2053484.48904133, 2512451.15337624,\n",
    "       2512451.15337624, 2726859.95574373, 2726859.95574373,\n",
    "       2779609.28386339, 2779609.28386339, 2827486.59107239,\n",
    "       2827486.59107239, 2833326.90480091, 2833326.90480091,\n",
    "       2830283.03259496, 2830283.03259496, 2726859.95574373,\n",
    "       2726859.95574373, 2707367.42825967, 2707367.42825967,\n",
    "       2557240.92209016, 2557240.92209016, 2420531.19687943,\n",
    "       2420531.19687943, 2245241.1128414 , 2245241.1128414 ,\n",
    "       1829782.22978925, 1829782.22978925,  743769.25832605,\n",
    "        743769.25832605,  719107.79112942,  719107.79112942,\n",
    "        710882.47527273,  710882.47527273,  708782.9061541 ,\n",
    "        708782.9061541 ,  706605.83914068,  706605.83914068,\n",
    "        702884.83678823,  702884.83678823,  699330.14877435,\n",
    "        699330.14877435,  698106.79217618,  698106.79217618,\n",
    "        697332.03584512,  697332.03584512,  696317.93467906,\n",
    "        696317.93467906,  696167.64460966,  696167.64460966,\n",
    "        695633.55941906,  695633.55941906,  695633.55941906,\n",
    "        695633.55941906,  695633.55941906,  695633.55941906,\n",
    "        695633.55941906,  695633.55941906,  695633.55941906,\n",
    "        695633.55941906,  695633.55941906,  695633.55941906,\n",
    "        695633.55941906,  695633.55941906,  695633.55941906,\n",
    "        695633.55941906,  695633.55941906,  695633.55941906,\n",
    "        695633.55941906,  695633.55941906,  695633.55941906,\n",
    "        695633.55941906,  695633.55941906,  695633.55941906,\n",
    "        695633.55941906,  695633.55941906,  695633.55941906,\n",
    "        695633.55941906,  695633.55941906,  695633.55941906,\n",
    "        695633.55941906,  695633.55941906,  694677.60526595,\n",
    "        694677.60526595,  694677.60526595,  694677.60526595,\n",
    "        694677.60526595,  694677.60526595,  694677.60526595,\n",
    "        694677.60526595,  694677.60526595,  694677.60526595,\n",
    "        694677.60526595,  694677.60526595,  693429.24269629,\n",
    "        693429.24269629,  693429.24269629,  693429.24269629,\n",
    "        693429.24269629,  693429.24269629,  692716.93526192,\n",
    "        692716.93526192,  692379.41939462,  692379.41939462,\n",
    "        690176.6983718 ,  690176.6983718 ,  688681.83478372,\n",
    "        688681.83478372,  687162.86783629,  687162.86783629,\n",
    "        686235.36369922,  686235.36369922,  686150.90910499,\n",
    "        686150.90910499,  685951.34145025,  685951.34145025,\n",
    "        685005.95081601,  685005.95081601,  684576.59330447,\n",
    "        684576.59330447,  684576.59330447,  684576.59330447,\n",
    "        683889.43627665,  683889.43627665,  683889.43627665,\n",
    "        683889.43627665,  683889.43627665,  683889.43627665,\n",
    "        683889.43627665,  683889.43627665,  687172.58638815,\n",
    "        687172.58638815, 1980227.21562606, 1980227.21562606,\n",
    "       1989715.58702617, 1989715.58702617, 1992430.35210815,\n",
    "       1992430.35210815, 1998953.44050118, 1998953.44050118,\n",
    "       1998953.44050118, 1998953.44050118, 1998160.88128216,\n",
    "       1998160.88128216, 1998160.88128216, 1998160.88128216,\n",
    "       1998160.88128216, 1998160.88128216, 1972764.03439268,\n",
    "       1972764.03439268, 1903551.76041575, 1903551.76041575,\n",
    "        543762.2932594 ,  543762.2932594 ,  530289.21416049,\n",
    "        530289.21416049,  624896.67937685,  624896.67937685,\n",
    "       1680052.006021  , 1680052.006021  ,  322144.56539297,\n",
    "        322144.56539297,   77334.77862527,   77334.77862527,\n",
    "        409527.12801416,  409527.12801416]\n",
    "        )\n",
    "\n",
    "    demographic_events = []\n",
    "    for sz, t in zip(sizes, times):\n",
    "        demographic_events.append(\n",
    "            msprime.PopulationParametersChange(time=t, initial_size=sz, population_id=0)\n",
    "        )\n",
    "    populations = [\n",
    "        stdpopsim.Population(\n",
    "            id=\"GAS\",\n",
    "            description=\"Gabon gabiae population\",\n",
    "            )\n",
    "        ]\n",
    "\n",
    "    return stdpopsim.DemographicModel(\n",
    "        id=\"GAS_1A17\",\n",
    "        description=\"Stairwayplot estimates of N(t) for Gabon sample\",\n",
    "        long_description=\"\"\"\n",
    "        These estimates were done as part of the Ag1000G 2017 Consortium\n",
    "        paper. Stairwayplot was run with the addition of a misorientation\n",
    "        parameter using SFS information from each population. \n",
    "        \"\"\",\n",
    "        populations=populations,\n",
    "        citations=[\n",
    "            stdpopsim.Citation(\n",
    "            doi=\"https://doi.org/10.1038/nature24995\",\n",
    "            year=2017,\n",
    "            author=\"Ag1000G Consortium\",\n",
    "            reasons={stdpopsim.CiteReason.DEM_MODEL},\n",
    "            )\n",
    "        ],\n",
    "        generation_time=1/11,\n",
    "        demographic_events=demographic_events,\n",
    "        population_configurations=[\n",
    "            msprime.PopulationConfiguration(\n",
    "                initial_size=4069863, metadata=populations[0].asdict()\n",
    "            )\n",
    "        ],\n",
    "    )\n",
    "\n",
    "_species.add_demographic_model(_GAS_sp())"
   ]
  },
  {
   "cell_type": "markdown",
   "id": "outdoor-conspiracy",
   "metadata": {},
   "source": [
    "the last touch is to add the following line to the `AnoGam/__init__.py` file\n",
    "```\n",
    "from . import demographic_models  # noqa: F401\n",
    "```"
   ]
  },
  {
   "cell_type": "markdown",
   "id": "graduate-trace",
   "metadata": {},
   "source": [
    "then to make sure it works we can run it on the command line with\n",
    "```\n",
    "python -m stdpopsim AnoGam --help-models\n",
    "```\n",
    "or we can just go ahead and really run a simulation\n",
    "```\n",
    "python -m stdpopsim AnoGam 2 -c 2L -l 0.1 -o 2l.tree\n",
    "Simulation information:\n",
    "    Engine: msprime (1.0.0a6)\n",
    "    Model id: PiecewiseConstant\n",
    "    Model desciption: Piecewise constant size population model over multiple epochs.\n",
    "    Population: number_samples (sampling_time_generations):\n",
    "        0: 2 (None)\n",
    "Contig Description:\n",
    "    Contig length: 4936432.0\n",
    "    Mean recombination rate: 0.0\n",
    "    Mean mutation rate: 5.49e-09\n",
    "    Genetic map: None\n",
    "\n",
    "If you use this simulation in published work, please cite:\n",
    "[stdpopsim]\n",
    "Adrion et al., 2020: https://doi.org/10.7554/eLife.54967\n",
    "[simulation engine]\n",
    "Kelleher et al., 2016: https://doi.org/10.1371/journal.pcbi.1004842\n",
    "[mutation rate]\n",
    "Ag1000G Consortium, 2017: https://doi.org/10.1038/nature24995\n",
    "[genome assembly]\n",
    "Sharakhova et al., 2006: https://doi.org/10.1186/gb-2007-8-1-r5\n",
    "[recombination rate]\n",
    "Pombi et al., 2015: https://doi.org/10.4269/ajtmh.2006.75.901\n",
    "```"
   ]
  },
  {
   "cell_type": "code",
   "execution_count": null,
   "id": "recorded-mouse",
   "metadata": {},
   "outputs": [],
   "source": []
  }
 ],
 "metadata": {
  "kernelspec": {
   "display_name": "Python 3",
   "language": "python",
   "name": "python3"
  },
  "language_info": {
   "codemirror_mode": {
    "name": "ipython",
    "version": 3
   },
   "file_extension": ".py",
   "mimetype": "text/x-python",
   "name": "python",
   "nbconvert_exporter": "python",
   "pygments_lexer": "ipython3",
   "version": "3.7.10"
  }
 },
 "nbformat": 4,
 "nbformat_minor": 5
}
