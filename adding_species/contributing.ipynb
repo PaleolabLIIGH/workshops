{
 "cells": [
  {
   "cell_type": "markdown",
   "id": "employed-richardson",
   "metadata": {},
   "source": [
    "# Contributing to stdpopsim\n",
    "In this workshop we are going to go through the major routes by which one can add to the `stdpopsim` catalog specifically, but to a lesser extent along the way we will highlight the myriad additions and contributions that we'd love to see the community build on to the project. \n",
    "\n",
    "By way of a road map, through this workshop we will look at 1) how to add a new species genome to the `stdpopsim` catalog, using the mosquito _Anopheles gambiae_ as our example, 2) adding a genetic map to our genome, and 3) adding a demographic model to our new species or any other that already exists in the catalog. \n",
    "\n",
    "## Getting ready to develop with us on github\n",
    "[Github](https://github.com) provides an incredibly powerful tool for us to collaboratively build code on. Their platform enables everything from automated testing, to code review tools, to excellent version control. As we step through the workshop, at various turns we will depend on Github and its commandline engine `git`. \n",
    "\n",
    "### Create your own fork of stdpopsim\n",
    "Okay the first step towards contributing to `stdpopsim` is to create your own _fork_ on github. Do to that\n",
    "natigate to [the popsim-consortium github repo](https://github.com/popsim-consortium/stdpopsim) and hit the `fork` button on the top right (see Figure 1 below). \n",
    "![Figure 1. Fork our repo on Github](gh1.png)\n",
    "\n",
    "### Clone your fork locally\n",
    "Next clone your now up-to-date fork locally on to your machine. This can be done at the commandline using `git` as\n",
    "```\n",
    "git clone https://github.com/<your_username>/stdpopsim.git\n",
    "```\n",
    "with your actual github username in place of `<your_username>`."
   ]
  },
  {
   "cell_type": "markdown",
   "id": "collaborative-stopping",
   "metadata": {},
   "source": [
    "### Setup a python environment to code in\n",
    "Next (and for the sake of completeness I'm going to start by setting up a new `conda` virtual environment, and then installing the `stdpopsim` development requirements onto that using `pip`. Further documentation on installation of `stdposim` can be found [here](https://stdpopsim.readthedocs.io/en/latest/development.html#installation).\n",
    "```\n",
    "cd stdpopsim\n",
    "conda create -n stdpopsim python=3.9 --yes\n",
    "conda activate stdpopsim\n",
    "pip install -r requirements/development.txt\n",
    "```\n",
    "with that done everything should be in place for us to start coding!"
   ]
  },
  {
   "cell_type": "code",
   "execution_count": null,
   "id": "changed-intervention",
   "metadata": {},
   "outputs": [],
   "source": []
  }
 ],
 "metadata": {
  "kernelspec": {
   "display_name": "Python 3",
   "language": "python",
   "name": "python3"
  },
  "language_info": {
   "codemirror_mode": {
    "name": "ipython",
    "version": 3
   },
   "file_extension": ".py",
   "mimetype": "text/x-python",
   "name": "python",
   "nbconvert_exporter": "python",
   "pygments_lexer": "ipython3",
   "version": "3.7.10"
  }
 },
 "nbformat": 4,
 "nbformat_minor": 5
}
