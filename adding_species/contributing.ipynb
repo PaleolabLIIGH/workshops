{
 "cells": [
  {
   "cell_type": "markdown",
   "id": "employed-richardson",
   "metadata": {},
   "source": [
    "# Contributing to stdpopsim\n",
    "In this workshop we are going to go through the major routes by which one can add to the `stdpopsim` catalog specifically, but to a lesser extent along the way we will highlight the myriad additions and contributions that we'd love to see the community build on to the project. \n",
    "\n",
    "By way of a road map, through this workshop we will look at 1) how to add a new species genome to the `stdpopsim` catalog, using the mosquito _Anopheles gambiae_ as our example, 2) adding a genetic map to our genome, and 3) adding a demographic model to our new species or any other that already exists in the catalog. \n",
    "\n",
    "## Getting ready to develop with us on github\n",
    "[Github](https://github.com) provides an incredibly powerful tool for us to collaboratively build code on. Their platform enables everything from automated testing, to code review tools, to excellent version control. As we step through the workshop, at various turns we will depend on Github and its commandline engine `git`. \n",
    "\n",
    "### Create your own fork of stdpopsim\n",
    "Okay the first step towards contributing to `stdpopsim` is to create your own _fork_ on github. Do to that\n",
    "natigate to [the popsim-consortium github repo](https://github.com/popsim-consortium/stdpopsim) and hit the `fork` button on the top right (see Figure 1 below). \n",
    "![Figure 1. Fork our repo on Github](gh1.png)\n",
    "\n",
    "### Clone your fork locally\n",
    "Next clone your now up-to-date fork locally on to your machine. This can be done at the commandline using `git` as\n",
    "```\n",
    "git clone https://github.com/<your_username>/stdpopsim.git\n",
    "```\n",
    "with your actual github username in place of `<your_username>`."
   ]
  },
  {
   "cell_type": "markdown",
   "id": "white-miniature",
   "metadata": {},
   "source": [
    "### Setup a python environment to code in\n",
    "Next (and for the sake of completeness) I'm going to start by setting up a new `conda` virtual environment and then will install the `stdpopsim` development requirements onto that using `pip`. Further documentation on installation of `stdposim` can be found [here](https://stdpopsim.readthedocs.io/en/latest/development.html#installation).\n",
    "```\n",
    "cd stdpopsim\n",
    "conda create -n stdpopsim python=3.9 --yes\n",
    "conda activate stdpopsim\n",
    "pip install -r requirements/development.txt\n",
    "```\n",
    "with that done everything should be in place for us to start coding!"
   ]
  },
  {
   "cell_type": "markdown",
   "id": "premium-point",
   "metadata": {},
   "source": [
    "## Adding a species\n",
    "For the sake of the workshop we are going to go through all of the steps that it would take to add a species, in this case _Anopheles gambiae_. Again our workflow actually starts with considerations of `git` and version control. Our first step will be to create a new _branch_ of `stdpopsim` using `git` which will effectively keep track of the new features we will be adding\n",
    "\n",
    "```\n",
    "git checkout -b mosquito\n",
    "```\n",
    "now any changes that I commit, will only be committed to the branch called `mosquito`. "
   ]
  },
  {
   "cell_type": "markdown",
   "id": "isolated-carter",
   "metadata": {},
   "source": [
    "`stdpopsim` has a few utilities that play well with [Ensembl](https://ensembl.org/index.html), including one that we will use to create some code templates for us to buildout a new species. This utility lives on the \"maintenance\" side of `stdpopsim` which houses utilities that are not user facing. \n",
    "\n",
    "To add our species we will hand the `maintenance` command line interface an Ensembl species ID and it will go and pull down some essential information about the genome. A partial list of the genomes housed on Ensembl [can be found here](https://metazoa.ensembl.org/species.html)\n",
    "```\n",
    "python -m maintenance add-species Anopheles_gambiae\n",
    "```\n",
    "and it returns to me\n",
    "```\n",
    "2021-03-10 12:30:59,590 [3668] INFO     maint: Adding new species AnoGam for Ensembl ID anopheles_gambiae\n",
    "2021-03-10 12:30:59,590 [3668] INFO     maint: Writing genome data for AnoGam anopheles_gambiae\n",
    "2021-03-10 12:30:59,591 [3668] INFO     ensembl: making request to http://rest.ensembl.org/info/assembly/anopheles_gambiae?synonyms=1\n",
    "2021-03-10 12:31:00,468 [3668] INFO     ensembl: making request to http://rest.ensembl.org/info/genomes/anopheles_gambiae\n",
    "2021-03-10 12:31:02,846 [3668] INFO     maint: AnoGam: name=Anopheles gambiae, common_name=Anopheles gambiae\n",
    "2021-03-10 12:31:02,846 [3668] INFO     maint: Writing species definition stub to stdpopsim/catalog/AnoGam/species.py\n",
    "2021-03-10 12:31:02,904 [3668] INFO     maint: Writing species test stub to tests/test_AnoGam.py\n",
    "2021-03-10 12:31:02,938 [3668] INFO     ensembl: making request to http://rest.ensembl.org/info/data\n",
    "2021-03-10 12:31:03,853 [3668] INFO     maint: Using Ensembl release 103\n",
    "```\n",
    "wicked. The next steps are going to be to flesh out the code templates that the `maintenance` code just wrote for us in our branch. Let's go look at the files that were just created for us and we will compare them to a closely related genome. "
   ]
  },
  {
   "cell_type": "markdown",
   "id": "controversial-output",
   "metadata": {},
   "source": [
    "### Looking at the catalog"
   ]
  },
  {
   "cell_type": "markdown",
   "id": "ongoing-blood",
   "metadata": {},
   "source": [
    "The function call above has created a few new files in the directory structure of stdpopsim, in particular at the level of `stdpopsim/catalog` this utility has created a new directory called `AnoGam`, which contains three files. The 3 + 3 naming scheme for this directory (and all following references in `stdpopsim`) is automatically parsed by the maintenance script.\n",
    "```\n",
    "├── catalog\n",
    "│   ├── AnoGam\n",
    "│   │   ├── __init__.py\n",
    "│   │   ├── genome_data.py\n",
    "│   │   └── species.py\n",
    "```\n",
    "\n"
   ]
  },
  {
   "cell_type": "markdown",
   "id": "dangerous-strike",
   "metadata": {},
   "source": [
    "first lets look in `genome_data.py` file. this contains the **physical map** of the genome. "
   ]
  },
  {
   "cell_type": "code",
   "execution_count": 9,
   "id": "activated-indie",
   "metadata": {},
   "outputs": [
    {
     "name": "stdout",
     "output_type": "stream",
     "text": [
      "# File autogenerated from Ensembl REST API. Do not edit.\r\n",
      "data = {\r\n",
      "    \"assembly_accession\": \"GCA_000005575.1\",\r\n",
      "    \"assembly_name\": \"AgamP4\",\r\n",
      "    \"chromosomes\": {\r\n",
      "        \"2L\": {\"length\": 49364325, \"synonyms\": []},\r\n",
      "        \"2R\": {\"length\": 61545105, \"synonyms\": []},\r\n",
      "        \"3L\": {\"length\": 41963435, \"synonyms\": []},\r\n",
      "        \"3R\": {\"length\": 53200684, \"synonyms\": []},\r\n",
      "        \"X\": {\"length\": 24393108, \"synonyms\": []},\r\n",
      "        \"Mt\": {\"length\": 15363, \"synonyms\": []},\r\n",
      "    },\r\n",
      "}\r\n"
     ]
    }
   ],
   "source": [
    "! cat ../../stdpopsim/stdpopsim/catalog/AnoGam/genome_data.py"
   ]
  },
  {
   "cell_type": "markdown",
   "id": "variable-internet",
   "metadata": {},
   "source": [
    "so we can see that the utility we can, has sucked down a whole lot of useful information for us for free. this `genome_data.py` essentially puts together a data dictionary which has slots for the assembly accession number, the assembly name, and a dict representing the chromosome names and their associated lengths. If synonymns are defined (e.g., chr2L for 2L) then those are given in the list that follows. There is no reason to edit this file-- we are good here. "
   ]
  },
  {
   "cell_type": "markdown",
   "id": "three-collective",
   "metadata": {},
   "source": [
    "Next let's look at the `species.py` file. This is the file that we will need to edit with our species specific information. The basics that we will need here include:\n",
    "- a genome-wide average recombination rate\n",
    "- a genome-wide average mutation rate\n",
    "- a generate time estimate (in years)\n",
    "- a default population size\n",
    "- literature citations that one can point to for the above and the assembly\n",
    "\n",
    "in addition there is some optional information that we might add. this could include chromosome specific recombination\n",
    "or mutation rates, but we will keep things simple for the most part today."
   ]
  },
  {
   "cell_type": "markdown",
   "id": "massive-robert",
   "metadata": {},
   "source": [
    "### recombination rates\n",
    "As a reference for recombination rates in my organism I'm going to use a mapping based study from [Pombi et al. (2006)](https://doi.org/10.4269/ajtmh.2006.75.901).\n",
    "In that manuscript the authors cite rates around 1cM/Mb, with a bit of variation among arms. In particular let's edit the following block of code in `species.py` that defines the recombination_rate dict"
   ]
  },
  {
   "cell_type": "code",
   "execution_count": null,
   "id": "consecutive-arkansas",
   "metadata": {},
   "outputs": [],
   "source": [
    "_recombination_rate = {\n",
    "    \"2L\": 0, #setting to zero because of inversion \n",
    "    \"2R\": 1.3e-8, \n",
    "    \"3L\": 1.6e-8, \n",
    "    \"3R\": 1.3e-8, \n",
    "    \"X\": 1e-8,\n",
    "    \"Mt\": 0\n",
    "}"
   ]
  },
  {
   "cell_type": "markdown",
   "id": "hollywood-islam",
   "metadata": {},
   "source": [
    "next we need to add a citation for these rates. will we do that by adding a `stdpopsim.Citation` object to the file that we will include later. that Citation object looks like this"
   ]
  },
  {
   "cell_type": "code",
   "execution_count": null,
   "id": "textile-render",
   "metadata": {},
   "outputs": [],
   "source": [
    "_PombiEtAl = stdpopsim.Citation(\n",
    "    doi=\"https://doi.org/10.4269/ajtmh.2006.75.901\",\n",
    "    year=2006,\n",
    "    author=\"Pombi et al.\",\n",
    "    reasons={stdpopsim.CiteReason.REC_RATE},\n",
    ")"
   ]
  },
  {
   "cell_type": "markdown",
   "id": "active-circus",
   "metadata": {},
   "source": [
    "okay having edited our file that takes care of recombination rate defaults and citations. Next we need to add mutation rates. As it turns out we don't have great estimates for mutation rate in Anopheles but in a recent population genomics effort by the [Ag1000G consortium](https://doi.org/10.1038/nature24995) we have relied on Drosophila estimates from [Schrider et al. (2013)](https://doi.org/10.1534/genetics.113.151670) that set $u=5.49e^{-9}$. We'll go with that. \n",
    "\n",
    "So again first let's add a citation for the mutation rate and then edit the `_mutation_rate` dict that was templated for us"
   ]
  },
  {
   "cell_type": "code",
   "execution_count": null,
   "id": "cheap-stick",
   "metadata": {},
   "outputs": [],
   "source": [
    "_Ag1000G = stdpopsim.Citation(\n",
    "    doi=\"https://doi.org/10.1038/nature24995\",\n",
    "    year=2017,\n",
    "    author=\"Ag1000G Consortium\",\n",
    "    reasons={stdpopsim.CiteReason.MUT_RATE, stdpopsim.CiteReason.GEN_TIME, stdpopsim.CiteReason.POP_SIZE},\n",
    ")"
   ]
  },
  {
   "cell_type": "markdown",
   "id": "every-treaty",
   "metadata": {},
   "source": [
    "and for the mutation rate block let's set an overall rate as suggested and then populate our dict"
   ]
  },
  {
   "cell_type": "code",
   "execution_count": null,
   "id": "finnish-lodging",
   "metadata": {},
   "outputs": [],
   "source": [
    "_overall_rate = 5.49e-9\n",
    "_mutation_rate = {\n",
    "    \"2L\": _overall_rate,\n",
    "    \"2R\": _overall_rate,\n",
    "    \"3L\": _overall_rate,\n",
    "    \"3R\": _overall_rate,\n",
    "    \"X\": _overall_rate,\n",
    "    \"Mt\": _overall_rate\n",
    "}"
   ]
  },
  {
   "cell_type": "markdown",
   "id": "universal-dollar",
   "metadata": {},
   "source": [
    "I still need an assembly citation. Ensembl points me to this publication for\n",
    "their current assembly by [Sharakhova et al. (2006)](https://doi.org/10.1186/gb-2007-8-1-r5). I'll create a citation for that and then edit"
   ]
  },
  {
   "cell_type": "code",
   "execution_count": null,
   "id": "geographic-legislation",
   "metadata": {},
   "outputs": [],
   "source": [
    "_SharakhovaEtAl = stdpopsim.Citation(\n",
    "    doi=\"https://doi.org/10.1186/gb-2007-8-1-r5\",\n",
    "    year=2006,\n",
    "    author=\"Sharakhova et al.\",\n",
    "    reasons={stdpopsim.CiteReason.ASSEMBLY},\n",
    ")"
   ]
  },
  {
   "cell_type": "markdown",
   "id": "prostate-behalf",
   "metadata": {},
   "source": [
    "and now we will put it all together to create the genome object"
   ]
  },
  {
   "cell_type": "code",
   "execution_count": null,
   "id": "consistent-joshua",
   "metadata": {},
   "outputs": [],
   "source": [
    "_genome = stdpopsim.Genome.from_data(\n",
    "    genome_data.data,\n",
    "    recombination_rate=_recombination_rate,\n",
    "    mutation_rate=_mutation_rate,\n",
    "    citations=[\n",
    "        _SharakhovaEtAl,\n",
    "        _Ag1000G,\n",
    "        _PombiEtAl,\n",
    "    ],\n",
    ")"
   ]
  },
  {
   "cell_type": "markdown",
   "id": "several-giving",
   "metadata": {},
   "source": [
    "Finally I'm going to edit the species definition in `species.py` to include a default population size and generation time. \n",
    "\n",
    "For this we will again rely on the Ag1000G paper and call the generation time 11 gens per year and the population size approximately 6 million, which corresponds to the Ghana population sample"
   ]
  },
  {
   "cell_type": "code",
   "execution_count": null,
   "id": "concrete-annex",
   "metadata": {},
   "outputs": [],
   "source": [
    "_species = stdpopsim.Species(\n",
    "    id=\"AnoGam\",\n",
    "    ensembl_id=\"anopheles_gambiae\",\n",
    "    name=\"Anopheles gambiae\",\n",
    "    common_name=\"Anopheles gambiae\",\n",
    "    genome=_genome,\n",
    "    generation_time=1/11,\n",
    "    population_size=6e6, #Ghana population\n",
    "    citations=[_Ag100g]\n",
    ")"
   ]
  },
  {
   "cell_type": "markdown",
   "id": "previous-danish",
   "metadata": {},
   "source": [
    "now we can make sure this works at the command line\n",
    "```\n",
    "python -m stdpopsim AnoGam --help\n",
    "```\n",
    "returns for me\n",
    "```\n",
    "usage: __main__.py AnoGam [-h] [--help-models [HELP_MODELS]] [-b BIBTEX_FILE] [-D] [-c] [-L LENGTH] [-i INCLUSION_MASK]\n",
    "                          [-e EXCLUSION_MASK] [-l LENGTH_MULTIPLIER] [-s SEED] [-d] [-o OUTPUT]\n",
    "                          samples [samples ...]\n",
    "\n",
    "Run simulations for Anopheles gambiae using up-to-date genome\n",
    "information, genetic maps and simulation models from the literature.\n",
    "NOTE: By default, the tskit '.trees' binary file is written to\n",
    "stdout,so you should either redirect this to a file or use the '--\n",
    "output' option to specify a filename.\n",
    "\n",
    "Default population parameters for Anopheles gambiae:\n",
    "Generation time: 0.09090909090909091\n",
    "Population size: 6000000.0\n",
    "Mutation rate: 5.49e-09\n",
    "Recombination rate: 1.044e-08\n",
    "\n",
    "...\n",
    "...\n",
    "...\n",
    "```"
   ]
  },
  {
   "cell_type": "markdown",
   "id": "fiscal-lighter",
   "metadata": {},
   "source": [
    "so we are looking good and everything is working!"
   ]
  },
  {
   "cell_type": "code",
   "execution_count": null,
   "id": "peaceful-shock",
   "metadata": {},
   "outputs": [],
   "source": []
  },
  {
   "cell_type": "code",
   "execution_count": null,
   "id": "derived-loading",
   "metadata": {},
   "outputs": [],
   "source": []
  }
 ],
 "metadata": {
  "kernelspec": {
   "display_name": "Python 3",
   "language": "python",
   "name": "python3"
  },
  "language_info": {
   "codemirror_mode": {
    "name": "ipython",
    "version": 3
   },
   "file_extension": ".py",
   "mimetype": "text/x-python",
   "name": "python",
   "nbconvert_exporter": "python",
   "pygments_lexer": "ipython3",
   "version": "3.7.10"
  }
 },
 "nbformat": 4,
 "nbformat_minor": 5
}
